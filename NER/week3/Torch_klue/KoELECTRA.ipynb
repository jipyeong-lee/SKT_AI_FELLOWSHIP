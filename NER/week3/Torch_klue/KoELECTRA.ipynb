{
 "cells": [
  {
   "cell_type": "markdown",
   "metadata": {
    "id": "J63rs5_JV24E"
   },
   "source": [
    "# 문장 토큰 단위 분류 모델 학습"
   ]
  },
  {
   "cell_type": "markdown",
   "metadata": {
    "id": "ZlKlkIDyV24J"
   },
   "source": [
    "### 1. CPU 및 GPU 환경설정"
   ]
  },
  {
   "cell_type": "code",
   "execution_count": 1,
   "metadata": {},
   "outputs": [],
   "source": [
    "import torch\n",
    "import random\n",
    "import numpy as np\n",
    "import torch.backends.cudnn as cudnn\n",
    "\n",
    "torch.manual_seed(42)\n",
    "torch.cuda.manual_seed(42)\n",
    "torch.cuda.manual_seed_all(42)\n",
    "np.random.seed(42)\n",
    "cudnn.benchmark = False\n",
    "cudnn.deterministic = True\n",
    "random.seed(42)"
   ]
  },
  {
   "cell_type": "code",
   "execution_count": 2,
   "metadata": {},
   "outputs": [],
   "source": [
    "device = torch.device('cuda:0' if torch.cuda.is_available() else 'cpu')"
   ]
  },
  {
   "cell_type": "code",
   "execution_count": 3,
   "metadata": {
    "colab": {
     "base_uri": "https://localhost:8080/",
     "height": 35
    },
    "id": "9gXNSfHaV24K",
    "outputId": "7df74585-1045-4591-89c8-0850b79ad307"
   },
   "outputs": [
    {
     "data": {
      "text/plain": [
       "'CUDA GPU'"
      ]
     },
     "execution_count": 3,
     "metadata": {},
     "output_type": "execute_result"
    }
   ],
   "source": [
    "torch.cuda.get_device_name(0)"
   ]
  },
  {
   "cell_type": "markdown",
   "metadata": {
    "id": "5FqL2R0_V24L"
   },
   "source": [
    "### 2. 데이터셋"
   ]
  },
  {
   "cell_type": "code",
   "execution_count": 4,
   "metadata": {},
   "outputs": [
    {
     "name": "stdout",
     "output_type": "stream",
     "text": [
      "--2022-07-05 07:16:43--  https://raw.githubusercontent.com/KLUE-benchmark/KLUE/main/klue_benchmark/klue-ner-v1.1/klue-ner-v1.1_train.tsv\n",
      "Resolving raw.githubusercontent.com (raw.githubusercontent.com)... 185.199.109.133, 185.199.111.133, 185.199.110.133, ...\n",
      "Connecting to raw.githubusercontent.com (raw.githubusercontent.com)|185.199.109.133|:443... connected.\n",
      "HTTP request sent, awaiting response... 200 OK\n",
      "Length: 10570302 (10M) [text/plain]\n",
      "Saving to: ‘klue-ner-v1.1_train.tsv’\n",
      "\n",
      "klue-ner-v1.1_train 100%[===================>]  10.08M  32.4MB/s    in 0.3s    \n",
      "\n",
      "2022-07-05 07:16:45 (32.4 MB/s) - ‘klue-ner-v1.1_train.tsv’ saved [10570302/10570302]\n",
      "\n",
      "--2022-07-05 07:16:45--  https://raw.githubusercontent.com/KLUE-benchmark/KLUE/main/klue_benchmark/klue-ner-v1.1/klue-ner-v1.1_dev.tsv\n",
      "Resolving raw.githubusercontent.com (raw.githubusercontent.com)... 185.199.110.133, 185.199.109.133, 185.199.111.133, ...\n",
      "Connecting to raw.githubusercontent.com (raw.githubusercontent.com)|185.199.110.133|:443... connected.\n",
      "HTTP request sent, awaiting response... 200 OK\n",
      "Length: 2635045 (2.5M) [text/plain]\n",
      "Saving to: ‘klue-ner-v1.1_dev.tsv’\n",
      "\n",
      "klue-ner-v1.1_dev.t 100%[===================>]   2.51M  10.0MB/s    in 0.3s    \n",
      "\n",
      "2022-07-05 07:16:47 (10.0 MB/s) - ‘klue-ner-v1.1_dev.tsv’ saved [2635045/2635045]\n",
      "\n"
     ]
    }
   ],
   "source": [
    "!wget https://raw.githubusercontent.com/KLUE-benchmark/KLUE/main/klue_benchmark/klue-ner-v1.1/klue-ner-v1.1_train.tsv\n",
    "!wget https://raw.githubusercontent.com/KLUE-benchmark/KLUE/main/klue_benchmark/klue-ner-v1.1/klue-ner-v1.1_dev.tsv"
   ]
  },
  {
   "cell_type": "markdown",
   "metadata": {
    "id": "LPTt9dvEV24N"
   },
   "source": [
    "### 3. 허깅페이스 트랜스포머 설치"
   ]
  },
  {
   "cell_type": "code",
   "execution_count": 4,
   "metadata": {
    "colab": {
     "base_uri": "https://localhost:8080/"
    },
    "id": "VLnzEFwpV24N",
    "outputId": "c14ee6fe-2f26-4bf3-96b7-f40ac476e58e"
   },
   "outputs": [
    {
     "name": "stdout",
     "output_type": "stream",
     "text": [
      "Defaulting to user installation because normal site-packages is not writeable\n",
      "Looking in indexes: https://pypi.org/simple, https://pypi.ngc.nvidia.com\n",
      "Requirement already satisfied: transformers==4.5.1 in ./.local/lib/python3.8/site-packages (4.5.1)\n",
      "Requirement already satisfied: packaging in /usr/local/lib/python3.8/dist-packages (from transformers==4.5.1) (20.3)\n",
      "Requirement already satisfied: filelock in /usr/local/lib/python3.8/dist-packages (from transformers==4.5.1) (3.0.12)\n",
      "Requirement already satisfied: sacremoses in /usr/local/lib/python3.8/dist-packages (from transformers==4.5.1) (0.0.43)\n",
      "Requirement already satisfied: tqdm>=4.27 in /usr/local/lib/python3.8/dist-packages (from transformers==4.5.1) (4.55.1)\n",
      "Requirement already satisfied: tokenizers<0.11,>=0.10.1 in ./.local/lib/python3.8/site-packages (from transformers==4.5.1) (0.10.3)\n",
      "Requirement already satisfied: requests in /usr/local/lib/python3.8/dist-packages (from transformers==4.5.1) (2.25.1)\n",
      "Requirement already satisfied: regex!=2019.12.17 in /usr/local/lib/python3.8/dist-packages (from transformers==4.5.1) (2020.2.20)\n",
      "Requirement already satisfied: numpy>=1.17 in /usr/local/lib/python3.8/dist-packages (from transformers==4.5.1) (1.19.4)\n",
      "Requirement already satisfied: six in /usr/local/lib/python3.8/dist-packages (from packaging->transformers==4.5.1) (1.15.0)\n",
      "Requirement already satisfied: pyparsing>=2.0.2 in /usr/local/lib/python3.8/dist-packages (from packaging->transformers==4.5.1) (2.4.6)\n",
      "Requirement already satisfied: certifi>=2017.4.17 in /usr/local/lib/python3.8/dist-packages (from requests->transformers==4.5.1) (2019.11.28)\n",
      "Requirement already satisfied: idna<3,>=2.5 in /usr/local/lib/python3.8/dist-packages (from requests->transformers==4.5.1) (2.9)\n",
      "Requirement already satisfied: chardet<5,>=3.0.2 in /usr/local/lib/python3.8/dist-packages (from requests->transformers==4.5.1) (3.0.4)\n",
      "Requirement already satisfied: urllib3<1.27,>=1.21.1 in /usr/local/lib/python3.8/dist-packages (from requests->transformers==4.5.1) (1.26.5)\n",
      "Requirement already satisfied: click in /usr/local/lib/python3.8/dist-packages (from sacremoses->transformers==4.5.1) (7.0)\n",
      "Requirement already satisfied: joblib in /usr/local/lib/python3.8/dist-packages (from sacremoses->transformers==4.5.1) (0.14.1)\n",
      "\u001b[33mWARNING: You are using pip version 21.1.2; however, version 22.1.2 is available.\n",
      "You should consider upgrading via the '/usr/bin/python3 -m pip install --upgrade pip' command.\u001b[0m\n"
     ]
    }
   ],
   "source": [
    "!pip install transformers==4.5.1"
   ]
  },
  {
   "cell_type": "markdown",
   "metadata": {
    "id": "h4dZ0sjOV24N"
   },
   "source": [
    "### 4. 데이터셋 샘플"
   ]
  },
  {
   "cell_type": "code",
   "execution_count": 5,
   "metadata": {
    "id": "HqrHDRF7V24O"
   },
   "outputs": [],
   "source": [
    "import pandas as pd"
   ]
  },
  {
   "cell_type": "code",
   "execution_count": 6,
   "metadata": {
    "id": "B8EqxbAfV24O"
   },
   "outputs": [
    {
     "name": "stderr",
     "output_type": "stream",
     "text": [
      "<ipython-input-6-0926c7ccb95c>:6: SettingWithCopyWarning: \n",
      "A value is trying to be set on a copy of a slice from a DataFrame\n",
      "\n",
      "See the caveats in the documentation: https://pandas.pydata.org/pandas-docs/stable/user_guide/indexing.html#returning-a-view-versus-a-copy\n",
      "  train['tag'][0] = 0.0\n"
     ]
    },
    {
     "data": {
      "text/html": [
       "<div>\n",
       "<style scoped>\n",
       "    .dataframe tbody tr th:only-of-type {\n",
       "        vertical-align: middle;\n",
       "    }\n",
       "\n",
       "    .dataframe tbody tr th {\n",
       "        vertical-align: top;\n",
       "    }\n",
       "\n",
       "    .dataframe thead th {\n",
       "        text-align: right;\n",
       "    }\n",
       "</style>\n",
       "<table border=\"1\" class=\"dataframe\">\n",
       "  <thead>\n",
       "    <tr style=\"text-align: right;\">\n",
       "      <th></th>\n",
       "      <th>src</th>\n",
       "      <th>tar</th>\n",
       "      <th>tag</th>\n",
       "    </tr>\n",
       "  </thead>\n",
       "  <tbody>\n",
       "    <tr>\n",
       "      <th>0</th>\n",
       "      <td>특</td>\n",
       "      <td>O</td>\n",
       "      <td>0.0</td>\n",
       "    </tr>\n",
       "    <tr>\n",
       "      <th>1</th>\n",
       "      <td>히</td>\n",
       "      <td>O</td>\n",
       "      <td>0.0</td>\n",
       "    </tr>\n",
       "    <tr>\n",
       "      <th>2</th>\n",
       "      <td>_</td>\n",
       "      <td>O</td>\n",
       "      <td>0.0</td>\n",
       "    </tr>\n",
       "    <tr>\n",
       "      <th>3</th>\n",
       "      <td>영</td>\n",
       "      <td>B-LC</td>\n",
       "      <td>0.0</td>\n",
       "    </tr>\n",
       "    <tr>\n",
       "      <th>4</th>\n",
       "      <td>동</td>\n",
       "      <td>I-LC</td>\n",
       "      <td>0.0</td>\n",
       "    </tr>\n",
       "    <tr>\n",
       "      <th>...</th>\n",
       "      <td>...</td>\n",
       "      <td>...</td>\n",
       "      <td>...</td>\n",
       "    </tr>\n",
       "    <tr>\n",
       "      <th>429113</th>\n",
       "      <td>탄</td>\n",
       "      <td>O</td>\n",
       "      <td>0.0</td>\n",
       "    </tr>\n",
       "    <tr>\n",
       "      <th>429114</th>\n",
       "      <td>탄</td>\n",
       "      <td>O</td>\n",
       "      <td>0.0</td>\n",
       "    </tr>\n",
       "    <tr>\n",
       "      <th>429115</th>\n",
       "      <td>해</td>\n",
       "      <td>O</td>\n",
       "      <td>0.0</td>\n",
       "    </tr>\n",
       "    <tr>\n",
       "      <th>429116</th>\n",
       "      <td>요</td>\n",
       "      <td>O</td>\n",
       "      <td>0.0</td>\n",
       "    </tr>\n",
       "    <tr>\n",
       "      <th>429117</th>\n",
       "      <td>!</td>\n",
       "      <td>O</td>\n",
       "      <td>0.0</td>\n",
       "    </tr>\n",
       "  </tbody>\n",
       "</table>\n",
       "<p>429118 rows × 3 columns</p>\n",
       "</div>"
      ],
      "text/plain": [
       "       src   tar  tag\n",
       "0        특     O  0.0\n",
       "1        히     O  0.0\n",
       "2        _     O  0.0\n",
       "3        영  B-LC  0.0\n",
       "4        동  I-LC  0.0\n",
       "...     ..   ...  ...\n",
       "429113   탄     O  0.0\n",
       "429114   탄     O  0.0\n",
       "429115   해     O  0.0\n",
       "429116   요     O  0.0\n",
       "429117   !     O  0.0\n",
       "\n",
       "[429118 rows x 3 columns]"
      ]
     },
     "execution_count": 6,
     "metadata": {},
     "output_type": "execute_result"
    }
   ],
   "source": [
    "train = pd.read_csv(\"klue-ner-v1.1_train.tsv\", names=['src', 'tar'], sep=\"\\t\").iloc[5:, :]\n",
    "train['tag'] = train['src'].apply(lambda x : 1 if '##' in x else 0)\n",
    "train['tag'] = train['tag'].diff()\n",
    "train = train.query('tag in [-1, 0]')\n",
    "train = train.reset_index(drop=True).reset_index(drop=True)\n",
    "train['tag'][0] = 0.0\n",
    "train = train.replace(' ', '_')\n",
    "train"
   ]
  },
  {
   "cell_type": "code",
   "execution_count": 7,
   "metadata": {},
   "outputs": [
    {
     "name": "stderr",
     "output_type": "stream",
     "text": [
      "Skipping line 12471: '\t' expected after '\"'\n",
      "Skipping line 21437: '\t' expected after '\"'\n",
      "Skipping line 21473: '\t' expected after '\"'\n",
      "Skipping line 21505: '\t' expected after '\"'\n",
      "Skipping line 21515: '\t' expected after '\"'\n",
      "Skipping line 21522: '\t' expected after '\"'\n",
      "Skipping line 21536: '\t' expected after '\"'\n",
      "Skipping line 21811: '\t' expected after '\"'\n",
      "Skipping line 21821: '\t' expected after '\"'\n",
      "Skipping line 27962: '\t' expected after '\"'\n",
      "Skipping line 75003: '\t' expected after '\"'\n",
      "Skipping line 79608: '\t' expected after '\"'\n",
      "Skipping line 103812: '\t' expected after '\"'\n",
      "Skipping line 103818: '\t' expected after '\"'\n",
      "Skipping line 103835: '\t' expected after '\"'\n",
      "Skipping line 112774: '\t' expected after '\"'\n",
      "Skipping line 122300: '\t' expected after '\"'\n",
      "Skipping line 122305: '\t' expected after '\"'\n",
      "Skipping line 122309: '\t' expected after '\"'\n",
      "Skipping line 128274: '\t' expected after '\"'\n",
      "Skipping line 128289: '\t' expected after '\"'\n",
      "Skipping line 128296: '\t' expected after '\"'\n",
      "Skipping line 128319: '\t' expected after '\"'\n",
      "Skipping line 132696: '\t' expected after '\"'\n",
      "Skipping line 132707: '\t' expected after '\"'\n",
      "Skipping line 132768: '\t' expected after '\"'\n",
      "Skipping line 132778: unexpected end of data\n",
      "<ipython-input-7-2a7df6fb1291>:6: SettingWithCopyWarning: \n",
      "A value is trying to be set on a copy of a slice from a DataFrame\n",
      "\n",
      "See the caveats in the documentation: https://pandas.pydata.org/pandas-docs/stable/user_guide/indexing.html#returning-a-view-versus-a-copy\n",
      "  dev['tag'][0] = 0.0\n"
     ]
    },
    {
     "data": {
      "text/html": [
       "<div>\n",
       "<style scoped>\n",
       "    .dataframe tbody tr th:only-of-type {\n",
       "        vertical-align: middle;\n",
       "    }\n",
       "\n",
       "    .dataframe tbody tr th {\n",
       "        vertical-align: top;\n",
       "    }\n",
       "\n",
       "    .dataframe thead th {\n",
       "        text-align: right;\n",
       "    }\n",
       "</style>\n",
       "<table border=\"1\" class=\"dataframe\">\n",
       "  <thead>\n",
       "    <tr style=\"text-align: right;\">\n",
       "      <th></th>\n",
       "      <th>src</th>\n",
       "      <th>tar</th>\n",
       "      <th>tag</th>\n",
       "    </tr>\n",
       "  </thead>\n",
       "  <tbody>\n",
       "    <tr>\n",
       "      <th>0</th>\n",
       "      <td>경</td>\n",
       "      <td>B-OG</td>\n",
       "      <td>0.0</td>\n",
       "    </tr>\n",
       "    <tr>\n",
       "      <th>1</th>\n",
       "      <td>찰</td>\n",
       "      <td>I-OG</td>\n",
       "      <td>0.0</td>\n",
       "    </tr>\n",
       "    <tr>\n",
       "      <th>2</th>\n",
       "      <td>은</td>\n",
       "      <td>O</td>\n",
       "      <td>0.0</td>\n",
       "    </tr>\n",
       "    <tr>\n",
       "      <th>3</th>\n",
       "      <td>_</td>\n",
       "      <td>O</td>\n",
       "      <td>0.0</td>\n",
       "    </tr>\n",
       "    <tr>\n",
       "      <th>4</th>\n",
       "      <td>또</td>\n",
       "      <td>O</td>\n",
       "      <td>0.0</td>\n",
       "    </tr>\n",
       "    <tr>\n",
       "      <th>...</th>\n",
       "      <td>...</td>\n",
       "      <td>...</td>\n",
       "      <td>...</td>\n",
       "    </tr>\n",
       "    <tr>\n",
       "      <th>128302</th>\n",
       "      <td>는</td>\n",
       "      <td>O</td>\n",
       "      <td>0.0</td>\n",
       "    </tr>\n",
       "    <tr>\n",
       "      <th>128303</th>\n",
       "      <td>_</td>\n",
       "      <td>O</td>\n",
       "      <td>0.0</td>\n",
       "    </tr>\n",
       "    <tr>\n",
       "      <th>128304</th>\n",
       "      <td>이</td>\n",
       "      <td>O</td>\n",
       "      <td>0.0</td>\n",
       "    </tr>\n",
       "    <tr>\n",
       "      <th>128305</th>\n",
       "      <td>어</td>\n",
       "      <td>O</td>\n",
       "      <td>0.0</td>\n",
       "    </tr>\n",
       "    <tr>\n",
       "      <th>128306</th>\n",
       "      <td>_</td>\n",
       "      <td>O</td>\n",
       "      <td>0.0</td>\n",
       "    </tr>\n",
       "  </tbody>\n",
       "</table>\n",
       "<p>128307 rows × 3 columns</p>\n",
       "</div>"
      ],
      "text/plain": [
       "       src   tar  tag\n",
       "0        경  B-OG  0.0\n",
       "1        찰  I-OG  0.0\n",
       "2        은     O  0.0\n",
       "3        _     O  0.0\n",
       "4        또     O  0.0\n",
       "...     ..   ...  ...\n",
       "128302   는     O  0.0\n",
       "128303   _     O  0.0\n",
       "128304   이     O  0.0\n",
       "128305   어     O  0.0\n",
       "128306   _     O  0.0\n",
       "\n",
       "[128307 rows x 3 columns]"
      ]
     },
     "execution_count": 7,
     "metadata": {},
     "output_type": "execute_result"
    }
   ],
   "source": [
    "dev = pd.read_csv(\"klue-ner-v1.1_dev.tsv\", names=['src', 'tar'], sep=\"\\t\", engine='python', quotechar='\"', error_bad_lines=False).iloc[5:, :]\n",
    "dev['tag'] = dev['src'].apply(lambda x : 1 if '##' in x else 0)\n",
    "dev['tag'] = dev['tag'].diff()\n",
    "dev = dev.query('tag in [-1, 0]')\n",
    "dev = dev.reset_index(drop=True).reset_index(drop=True)\n",
    "dev['tag'][0] = 0.0\n",
    "dev = dev.replace(' ', '_')\n",
    "dev"
   ]
  },
  {
   "cell_type": "markdown",
   "metadata": {
    "id": "lsc7gylpV24O"
   },
   "source": [
    "### 5. 데이터셋 전처리"
   ]
  },
  {
   "cell_type": "code",
   "execution_count": 8,
   "metadata": {
    "id": "3moHBc3IV24P"
   },
   "outputs": [],
   "source": [
    "def read_file(train):\n",
    "    token_docs = []\n",
    "    tag_docs = []\n",
    "\n",
    "    tokens = []\n",
    "    tags = []\n",
    "\n",
    "    for i in range(train.shape[0]):\n",
    "\n",
    "        if (train['tag'][i] != -1):\n",
    "            tokens.append(train['src'][i])\n",
    "            tags.append(train['tar'][i])\n",
    "\n",
    "        else:\n",
    "            token_docs.append(tokens)\n",
    "            tag_docs.append(tags)\n",
    "            tokens = []\n",
    "            tags = []\n",
    "            tokens.append(train['src'][i])\n",
    "            tags.append(train['tar'][i])\n",
    "        \n",
    "    return token_docs, tag_docs"
   ]
  },
  {
   "cell_type": "code",
   "execution_count": 9,
   "metadata": {},
   "outputs": [],
   "source": [
    "texts, tags = read_file(train)\n",
    "dev_texts, dev_tags = read_file(dev)"
   ]
  },
  {
   "cell_type": "code",
   "execution_count": 10,
   "metadata": {
    "colab": {
     "base_uri": "https://localhost:8080/"
    },
    "id": "2FwYUFDzV24P",
    "outputId": "19ef3835-70df-4a96-c16e-8306d6e1371d"
   },
   "outputs": [
    {
     "name": "stdout",
     "output_type": "stream",
     "text": [
      "7901\n",
      "7901\n"
     ]
    }
   ],
   "source": [
    "print(len(texts))\n",
    "print(len(tags))"
   ]
  },
  {
   "cell_type": "code",
   "execution_count": 11,
   "metadata": {
    "colab": {
     "base_uri": "https://localhost:8080/"
    },
    "id": "Mwd_WzPWV24P",
    "outputId": "b2885973-66a7-4564-afb2-8b7249133e0d"
   },
   "outputs": [
    {
     "name": "stdout",
     "output_type": "stream",
     "text": [
      "['한', '군', '데', '서', '_', '필', '름', '을', '_', '너', '무', '_', '낭', '비', '한', '_', '작', '품', '입', '니', '다', '.']\n",
      "\n",
      "['B-QT', 'I-QT', 'I-QT', 'O', 'O', 'O', 'O', 'O', 'O', 'O', 'O', 'O', 'O', 'O', 'O', 'O', 'O', 'O', 'O', 'O', 'O', 'O']\n"
     ]
    }
   ],
   "source": [
    "print(texts[1], end='\\n\\n') # 음절 단위로 잘 잘렸네요!\n",
    "print(tags[1])"
   ]
  },
  {
   "cell_type": "code",
   "execution_count": 12,
   "metadata": {
    "id": "MWSSe5T6V24Q"
   },
   "outputs": [],
   "source": [
    "unique_tags = set(train['tar'])\n",
    "tag2id = {tag: id for id, tag in enumerate(unique_tags)}\n",
    "id2tag = {id: tag for tag, id in tag2id.items()}"
   ]
  },
  {
   "cell_type": "code",
   "execution_count": 13,
   "metadata": {
    "colab": {
     "base_uri": "https://localhost:8080/"
    },
    "id": "ouKDVws0V24Q",
    "outputId": "08baf007-e83f-440f-89cf-6e4cb0bc8566"
   },
   "outputs": [
    {
     "name": "stdout",
     "output_type": "stream",
     "text": [
      "I-TI\n",
      "B-PS\n",
      "I-LC\n",
      "I-DT\n",
      "B-DT\n",
      "I-QT\n",
      "I-OG\n",
      "I-PS\n",
      "O\n",
      "B-TI\n",
      "B-QT\n",
      "B-OG\n",
      "B-LC\n"
     ]
    }
   ],
   "source": [
    "for i, tag in enumerate(unique_tags):\n",
    "    print(tag)  # 학습을 위한 label list를 확인합니다."
   ]
  },
  {
   "cell_type": "markdown",
   "metadata": {
    "id": "fi0povr9V24Q"
   },
   "source": [
    "### 6. EDA"
   ]
  },
  {
   "cell_type": "code",
   "execution_count": 14,
   "metadata": {
    "id": "HSmq2CXPV24Q"
   },
   "outputs": [],
   "source": [
    "import numpy as np\n",
    "import matplotlib.pyplot as plt"
   ]
  },
  {
   "cell_type": "markdown",
   "metadata": {
    "id": "oAc-sXb-V24R"
   },
   "source": [
    "**6.2 문장의 길이의 히스토그램**"
   ]
  },
  {
   "cell_type": "code",
   "execution_count": 15,
   "metadata": {
    "id": "4zI2wUQ1V24S"
   },
   "outputs": [],
   "source": [
    "for tag in list(tag2id.keys()):\n",
    "    globals()[tag] = 0"
   ]
  },
  {
   "cell_type": "code",
   "execution_count": 16,
   "metadata": {
    "id": "3jslZ2U3V24S"
   },
   "outputs": [],
   "source": [
    "for tag in train['tar']:\n",
    "    globals()[tag] += 1"
   ]
  },
  {
   "cell_type": "code",
   "execution_count": 17,
   "metadata": {
    "colab": {
     "base_uri": "https://localhost:8080/"
    },
    "id": "4ZsE5lQkV24T",
    "outputId": "21493bff-a1e2-4586-f947-fcb132b72cfb"
   },
   "outputs": [
    {
     "name": "stdout",
     "output_type": "stream",
     "text": [
      "  I-TI :   2,237\n",
      "  B-PS :   5,449\n",
      "  I-LC :   6,972\n",
      "  I-DT :   7,973\n",
      "  B-DT :   2,954\n",
      "  I-QT :   8,559\n",
      "  I-OG :  10,093\n",
      "  I-PS :  10,599\n",
      "     O : 363,440\n",
      "  B-TI :     738\n",
      "  B-QT :   4,362\n",
      "  B-OG :   3,221\n",
      "  B-LC :   2,521\n"
     ]
    }
   ],
   "source": [
    "for tag in list(tag2id.keys()): \n",
    "    print('{:>6} : {:>7,}'. format(tag, globals()[tag]))"
   ]
  },
  {
   "cell_type": "markdown",
   "metadata": {
    "id": "lCc4flAvV24T"
   },
   "source": [
    "### 7. Train Test Split"
   ]
  },
  {
   "cell_type": "code",
   "execution_count": 18,
   "metadata": {
    "id": "x_Cqhi2uV24T"
   },
   "outputs": [],
   "source": [
    "from sklearn.model_selection import train_test_split\n",
    "train_texts, test_texts, train_tags, test_tags = train_test_split(texts, tags, test_size=.1, random_state=42)"
   ]
  },
  {
   "cell_type": "code",
   "execution_count": 19,
   "metadata": {
    "colab": {
     "base_uri": "https://localhost:8080/"
    },
    "id": "VRtz3OheV24T",
    "outputId": "9ac1464d-29b3-4d68-8a82-3376aa71cf33"
   },
   "outputs": [
    {
     "name": "stdout",
     "output_type": "stream",
     "text": [
      "Train 문장 :  7,110\n",
      "Train 태그 :  7,110\n",
      "Test  문장 :    791\n",
      "Test  태그 :    791\n"
     ]
    }
   ],
   "source": [
    "print('Train 문장 : {:>6,}' .format(len(train_texts)))\n",
    "print('Train 태그 : {:>6,}' .format(len(train_tags)))\n",
    "print('Test  문장 : {:>6,}' .format(len(test_texts)))\n",
    "print('Test  태그 : {:>6,}' .format(len(test_tags)))"
   ]
  },
  {
   "cell_type": "markdown",
   "metadata": {
    "id": "sMimPiR4V24T"
   },
   "source": [
    "### 8. BERT 토크나이저"
   ]
  },
  {
   "cell_type": "code",
   "execution_count": 20,
   "metadata": {
    "colab": {
     "base_uri": "https://localhost:8080/",
     "height": 145,
     "referenced_widgets": [
      "29eec698f157400ca3f80274b231beaa",
      "471b5badbe4d4a4d847c8226145f63c1",
      "f6c3f17a73bb46b1ae9f74a457385521",
      "7320fec00cbb430ba311dd49ed353db2",
      "f58106fb6fa14e2cbcba51ff64fd42af",
      "9c64851af4f04f7c8988a74acf767eaa",
      "0e4ff2d0398642e2b722b915dacb9263",
      "63312eeed48f43c48bb885cc65deb0e2",
      "7a3b7f36789e419ba4be8f1ae4ac4257",
      "2bac51a16579471196f6d4876e02b0e5",
      "beac049f457c479385df2f44c48a4cfc",
      "2fdf6baf653148499a8ddec44d2b2074",
      "a3192117d2e242328d0ad3bef1840a2b",
      "b85dd9ce9d354c3cbc53420b1b3d4ee5",
      "f68d9266c94641a3a649599930986c04",
      "214a003220c64f2da86fbdda78a21634",
      "80fc6ded52984f0d845ba240596e42e9",
      "b4b763435d4d411d89d4ddb470046ebe",
      "862fb91b46b2484bbed141f65e12becc",
      "44bf61a52a224301abab1eeee7c6c831",
      "93d2d1944afd4ad6893a50475a731b38",
      "8a50607595254bb5966bd09ff9d733d9",
      "dc56208d27a34999984e2af40f12269b",
      "6c88089be4a343babab248b9f74414c8",
      "6169c3397432438fb838d92bebc82ffe",
      "7f30c49cfe2d43f58e6896e406e18d08",
      "cda3e49704224ddc83941ea0e6a810e0",
      "cf48fd6ac23f47d993af7bc75a7c6bd3",
      "c2086ebdb3d14b12bfda22125bbf1bc5",
      "2c9e3e401b544d2eb63e024b5a5ed372",
      "db663e2c387e4c0a8897eac157c13b2a",
      "28462393a8a14567af97c4fc2e43f0a0",
      "e2386da1f8bb495db8f90ebeefc5e98b",
      "202f9bd86d2c45b2be9f092ba365d34d",
      "c5ed599c35d947c8bdbc150c72c5d210",
      "a94cd514b5034be3b9cf043c18463acb",
      "ee97f7ca04124c5085c0664072daf5d6",
      "5237b073157c43a5b85a515a1fd54320",
      "d863a4c9d0ee409287f5bf96e01b51ff",
      "5f7865e661c540a88b10808884b1a010",
      "de2dedf6170145e6b88f8b7954c6012d",
      "372421550e214127a77b7da54afd4f5f",
      "8a60a0086a47469c98ad1c0171a0f147",
      "174fa64142ed48cdbfc8379086241bcf"
     ]
    },
    "id": "w6WvjtSTV24T",
    "outputId": "e0436102-f2ec-4f1c-dbe1-50db20451d46"
   },
   "outputs": [
    {
     "data": {
      "application/vnd.jupyter.widget-view+json": {
       "model_id": "375e6fda7ce64d51a8b83323ae956c81",
       "version_major": 2,
       "version_minor": 0
      },
      "text/plain": [
       "Downloading:   0%|          | 0.00/467 [00:00<?, ?B/s]"
      ]
     },
     "metadata": {},
     "output_type": "display_data"
    },
    {
     "data": {
      "application/vnd.jupyter.widget-view+json": {
       "model_id": "7e08f42d915d4b85ba3db73193de9894",
       "version_major": 2,
       "version_minor": 0
      },
      "text/plain": [
       "Downloading:   0%|          | 0.00/263k [00:00<?, ?B/s]"
      ]
     },
     "metadata": {},
     "output_type": "display_data"
    },
    {
     "data": {
      "application/vnd.jupyter.widget-view+json": {
       "model_id": "141a059ec47c44f2b1124ad006cd162f",
       "version_major": 2,
       "version_minor": 0
      },
      "text/plain": [
       "Downloading:   0%|          | 0.00/61.0 [00:00<?, ?B/s]"
      ]
     },
     "metadata": {},
     "output_type": "display_data"
    }
   ],
   "source": [
    "from transformers import AutoModel, AutoTokenizer, BertTokenizer\n",
    "MODEL_NAME = \"monologg/koelectra-base-v3-discriminator\"\n",
    "tokenizer = AutoTokenizer.from_pretrained(MODEL_NAME)"
   ]
  },
  {
   "cell_type": "code",
   "execution_count": 21,
   "metadata": {
    "id": "iujKEKHljWWJ"
   },
   "outputs": [],
   "source": [
    "pad_token_id = tokenizer.pad_token_id # 0\n",
    "cls_token_id = tokenizer.cls_token_id # 101\n",
    "sep_token_id = tokenizer.sep_token_id # 102\n",
    "pad_token_label_id = tag2id['O']    # tag2id['O']\n",
    "cls_token_label_id = tag2id['O']\n",
    "sep_token_label_id = tag2id['O']"
   ]
  },
  {
   "cell_type": "code",
   "execution_count": 22,
   "metadata": {
    "id": "cA7ZqKqLjX7h"
   },
   "outputs": [],
   "source": [
    "# 기존 토크나이저는 wordPiece tokenizer로 tokenizing 결과를 반환합니다.\n",
    "# 데이터 단위를 음절 단위로 변경했기 때문에, tokenizer도 음절 tokenizer로 바꿀게요! :-)\n",
    "\n",
    "# berttokenizer를 쓸건데 여기에 들어있는 8000개 밖에 안되는 한국어가 들어있지만\n",
    "# 많은 수가 음절이다. 그래서 음절로 쪼개면 UNK가 별로 없을듯.\n",
    "def ner_tokenizer(sent, max_seq_length):\n",
    "    pre_syllable = \"_\"\n",
    "    input_ids = [pad_token_id] * (max_seq_length - 1)\n",
    "    attention_mask = [0] * (max_seq_length - 1)\n",
    "    token_type_ids = [0] * max_seq_length\n",
    "    sent = sent[:max_seq_length-2]\n",
    "\n",
    "    for i, syllable in enumerate(sent):\n",
    "        if syllable == '_':\n",
    "            pre_syllable = syllable\n",
    "        if pre_syllable != \"_\":\n",
    "            syllable = '##' + syllable  # 중간 음절에는 모두 prefix를 붙입니다.\n",
    "            # 우리가 구성한 학습 데이터도 이렇게 구성되었기 때문이라고 함.\n",
    "            # 이순신은 조선 -> [이, ##순, ##신, ##은, 조, ##선]\n",
    "        pre_syllable = syllable\n",
    "\n",
    "        input_ids[i] = (tokenizer.convert_tokens_to_ids(syllable))\n",
    "        attention_mask[i] = 1\n",
    "    \n",
    "    input_ids = [cls_token_id] + input_ids\n",
    "    input_ids[len(sent)+1] = sep_token_id\n",
    "    attention_mask = [1] + attention_mask\n",
    "    attention_mask[len(sent)+1] = 1\n",
    "    return {\"input_ids\": input_ids,\n",
    "            \"attention_mask\": attention_mask,\n",
    "            \"token_type_ids\": token_type_ids}"
   ]
  },
  {
   "cell_type": "code",
   "execution_count": 23,
   "metadata": {
    "colab": {
     "base_uri": "https://localhost:8080/"
    },
    "id": "W6kpthUClsLm",
    "outputId": "3e074aef-4aa0-4b80-a807-eab385e056be"
   },
   "outputs": [
    {
     "name": "stdout",
     "output_type": "stream",
     "text": [
      "{'input_ids': [2, 2252, 4070, 67, 3], 'attention_mask': [1, 1, 1, 1, 1], 'token_type_ids': [0, 0, 0, 0, 0]}\n"
     ]
    }
   ],
   "source": [
    "print(ner_tokenizer(train_texts[0], 5))\n",
    "# 'token_type_ids': [0, 0, 0, 0, 0] 은 segmentA로 0000으로 되어있는거."
   ]
  },
  {
   "cell_type": "code",
   "execution_count": 24,
   "metadata": {
    "id": "AbfZ2k5ZtMB6"
   },
   "outputs": [],
   "source": [
    "tokenized_train_sentences = []\n",
    "tokenized_test_sentences = []\n",
    "tokenized_dev_sentences = []\n",
    "\n",
    "for text in train_texts:    # 전체 데이터를 tokenizing 합니다.\n",
    "    tokenized_train_sentences.append(ner_tokenizer(text, 128))\n",
    "for text in test_texts:\n",
    "    tokenized_test_sentences.append(ner_tokenizer(text, 128))\n",
    "for text in dev_texts:\n",
    "    tokenized_dev_sentences.append(ner_tokenizer(text, 128))"
   ]
  },
  {
   "cell_type": "code",
   "execution_count": 25,
   "metadata": {
    "id": "3vwNodVGuV3L"
   },
   "outputs": [],
   "source": [
    "# 우리의 label도 truncation과 tokenizing이 필요하다.\n",
    "def encode_tags(tags, max_seq_length):\n",
    "    # label 역시 입력 token과 개수를 맞춰줍니다 :-)\n",
    "    tags = tags[:max_seq_length-2]\n",
    "    labels = [tag2id[tag] for tag in tags]\n",
    "    labels = [tag2id['O']] + labels\n",
    "\n",
    "    padding_length = max_seq_length - len(labels)\n",
    "    labels = labels + ([pad_token_label_id] * padding_length)\n",
    "\n",
    "    return labels"
   ]
  },
  {
   "cell_type": "code",
   "execution_count": 26,
   "metadata": {
    "colab": {
     "base_uri": "https://localhost:8080/"
    },
    "id": "dcvGJByTjFLe",
    "outputId": "7b82be4c-850a-46d1-81d5-de48a1dc5529"
   },
   "outputs": [
    {
     "data": {
      "text/plain": [
       "{'I-TI': 0,\n",
       " 'B-PS': 1,\n",
       " 'I-LC': 2,\n",
       " 'I-DT': 3,\n",
       " 'B-DT': 4,\n",
       " 'I-QT': 5,\n",
       " 'I-OG': 6,\n",
       " 'I-PS': 7,\n",
       " 'O': 8,\n",
       " 'B-TI': 9,\n",
       " 'B-QT': 10,\n",
       " 'B-OG': 11,\n",
       " 'B-LC': 12}"
      ]
     },
     "execution_count": 26,
     "metadata": {},
     "output_type": "execute_result"
    }
   ],
   "source": [
    "tag2id"
   ]
  },
  {
   "cell_type": "code",
   "execution_count": 27,
   "metadata": {
    "colab": {
     "base_uri": "https://localhost:8080/"
    },
    "id": "SPMiUsbiwEDc",
    "outputId": "8bc3aa55-9ca8-480a-cdf4-6a3f4a9a7446"
   },
   "outputs": [
    {
     "data": {
      "text/plain": [
       "[8, 8, 8, 8, 8]"
      ]
     },
     "execution_count": 27,
     "metadata": {},
     "output_type": "execute_result"
    }
   ],
   "source": [
    "encode_tags(train_tags[0], 5)"
   ]
  },
  {
   "cell_type": "code",
   "execution_count": 28,
   "metadata": {
    "id": "NEDVhuT2woEs"
   },
   "outputs": [],
   "source": [
    "train_labels = []\n",
    "test_labels = []\n",
    "dev_labels = []\n",
    "\n",
    "for tag in train_tags:\n",
    "    train_labels.append(encode_tags(tag, 128))\n",
    "\n",
    "for tag in test_tags:\n",
    "    test_labels.append(encode_tags(tag, 128))\n",
    "    \n",
    "for tag in dev_tags:\n",
    "    dev_labels.append(encode_tags(tag, 128))"
   ]
  },
  {
   "cell_type": "code",
   "execution_count": 29,
   "metadata": {
    "colab": {
     "base_uri": "https://localhost:8080/"
    },
    "id": "Gso0b0gHV24V",
    "outputId": "96f8ade3-0860-4cd3-afc1-04da7a724b1a"
   },
   "outputs": [
    {
     "data": {
      "text/plain": [
       "(7110, 791, 2219)"
      ]
     },
     "execution_count": 29,
     "metadata": {},
     "output_type": "execute_result"
    }
   ],
   "source": [
    "len(train_labels), len(test_labels), len(dev_labels)"
   ]
  },
  {
   "cell_type": "markdown",
   "metadata": {
    "id": "YPE9AVyxV24V"
   },
   "source": [
    "### 9. Token 데이터셋"
   ]
  },
  {
   "cell_type": "code",
   "execution_count": 30,
   "metadata": {
    "id": "JHnLFbEfV24W"
   },
   "outputs": [],
   "source": [
    "import torch\n",
    "\n",
    "# 여기 부터는 이제 지겨워지죠? :-)\n",
    "class TokenDataset(torch.utils.data.Dataset):\n",
    "    def __init__(self, encodings, labels):\n",
    "        self.encodings = encodings\n",
    "        self.labels = labels\n",
    "\n",
    "    def __getitem__(self, idx):\n",
    "        item = {key: torch.tensor(val) for key, val in self.encodings[idx].items()}\n",
    "        item['labels'] = torch.tensor(self.labels[idx])\n",
    "        return item\n",
    "\n",
    "    def __len__(self):\n",
    "        return len(self.labels)\n",
    "\n",
    "train_dataset = TokenDataset(tokenized_train_sentences, train_labels)\n",
    "test_dataset = TokenDataset(tokenized_test_sentences, test_labels)\n",
    "dev_dataset = TokenDataset(tokenized_dev_sentences, dev_labels)"
   ]
  },
  {
   "cell_type": "code",
   "execution_count": 31,
   "metadata": {
    "id": "CJNlKuSCV24W"
   },
   "outputs": [],
   "source": [
    "# BertForSencenceClassification이 아니다! token이 목적이야\n",
    "from transformers import BertForTokenClassification, Trainer, TrainingArguments, AutoModelForTokenClassification, BigBirdForTokenClassification\n",
    "import sys\n",
    "training_args = TrainingArguments(\n",
    "    output_dir='./results',          # output directory\n",
    "    num_train_epochs=5,              # total number of training epochs\n",
    "    per_device_train_batch_size=8,   # batch size per device during training\n",
    "    per_device_eval_batch_size=64,   # batch size for evaluation\n",
    "    logging_dir='./logs',            # directory for storing logs\n",
    "    logging_steps=100,\n",
    "    learning_rate=3e-5,\n",
    "    save_total_limit=5\n",
    ")"
   ]
  },
  {
   "cell_type": "markdown",
   "metadata": {
    "id": "Eu0tcVlsV24W"
   },
   "source": [
    "### 10. BertForTokenClassification"
   ]
  },
  {
   "cell_type": "code",
   "execution_count": 32,
   "metadata": {
    "colab": {
     "base_uri": "https://localhost:8080/",
     "height": 161,
     "referenced_widgets": [
      "d2c4d148b0df4be2baa56cf3f0a8799d",
      "b6b76c781ab946f9ac1eb2124ac82f7a",
      "16d0c7091a4d427b819810afc390c8a2",
      "cc0722c0f5fa4466996b565354591a98",
      "23c58745bfce4b33a38824b9c311acea",
      "2016826f414e4444a32949bdeb98453d",
      "a3ce319086d946fe8fe3417d06bdad95",
      "fa280687d92b407a9c79f6816d3dc748",
      "e94edd0ac80a411fbf7bcaf99dcd6884",
      "5a76b4e483da449791e1c029c9a18610",
      "2ae1e276221e4db2814b6cc341dd0433"
     ]
    },
    "id": "aqYnwKkYV24W",
    "outputId": "b63a9ac3-2a3f-4a16-eec7-a7be2208e87d"
   },
   "outputs": [
    {
     "data": {
      "application/vnd.jupyter.widget-view+json": {
       "model_id": "8a0bd31e5a3142c199ad1eba61c76e0b",
       "version_major": 2,
       "version_minor": 0
      },
      "text/plain": [
       "Downloading:   0%|          | 0.00/452M [00:00<?, ?B/s]"
      ]
     },
     "metadata": {},
     "output_type": "display_data"
    },
    {
     "name": "stderr",
     "output_type": "stream",
     "text": [
      "Some weights of the model checkpoint at monologg/koelectra-base-v3-discriminator were not used when initializing ElectraForTokenClassification: ['discriminator_predictions.dense.weight', 'discriminator_predictions.dense.bias', 'discriminator_predictions.dense_prediction.weight', 'discriminator_predictions.dense_prediction.bias']\n",
      "- This IS expected if you are initializing ElectraForTokenClassification from the checkpoint of a model trained on another task or with another architecture (e.g. initializing a BertForSequenceClassification model from a BertForPreTraining model).\n",
      "- This IS NOT expected if you are initializing ElectraForTokenClassification from the checkpoint of a model that you expect to be exactly identical (initializing a BertForSequenceClassification model from a BertForSequenceClassification model).\n",
      "Some weights of ElectraForTokenClassification were not initialized from the model checkpoint at monologg/koelectra-base-v3-discriminator and are newly initialized: ['classifier.weight', 'classifier.bias']\n",
      "You should probably TRAIN this model on a down-stream task to be able to use it for predictions and inference.\n"
     ]
    }
   ],
   "source": [
    "model = AutoModelForTokenClassification.from_pretrained(MODEL_NAME, num_labels=len(unique_tags))\n",
    "\n",
    "model.to(device)\n",
    "\n",
    "trainer = Trainer(\n",
    "    model=model,                         # the instantiated 🤗 Transformers model to be trained\n",
    "    args=training_args,                  # training arguments, defined above\n",
    "    train_dataset=train_dataset,         # training dataset\n",
    "    eval_dataset=test_dataset,           # evaluation dataset\n",
    ")"
   ]
  },
  {
   "cell_type": "code",
   "execution_count": 33,
   "metadata": {
    "colab": {
     "base_uri": "https://localhost:8080/",
     "height": 1000
    },
    "id": "4-Mu0COgV24W",
    "outputId": "67d98ff2-c49e-41ac-82d2-de919bd9a99d"
   },
   "outputs": [
    {
     "data": {
      "text/html": [
       "\n",
       "    <div>\n",
       "        <style>\n",
       "            /* Turns off some styling */\n",
       "            progress {\n",
       "                /* gets rid of default border in Firefox and Opera. */\n",
       "                border: none;\n",
       "                /* Needs to be in here for Safari polyfill so background images work as expected. */\n",
       "                background-size: auto;\n",
       "            }\n",
       "        </style>\n",
       "      \n",
       "      <progress value='4445' max='4445' style='width:300px; height:20px; vertical-align: middle;'></progress>\n",
       "      [4445/4445 08:01, Epoch 5/5]\n",
       "    </div>\n",
       "    <table border=\"1\" class=\"dataframe\">\n",
       "  <thead>\n",
       "    <tr style=\"text-align: left;\">\n",
       "      <th>Step</th>\n",
       "      <th>Training Loss</th>\n",
       "    </tr>\n",
       "  </thead>\n",
       "  <tbody>\n",
       "    <tr>\n",
       "      <td>100</td>\n",
       "      <td>0.713200</td>\n",
       "    </tr>\n",
       "    <tr>\n",
       "      <td>200</td>\n",
       "      <td>0.331100</td>\n",
       "    </tr>\n",
       "    <tr>\n",
       "      <td>300</td>\n",
       "      <td>0.228100</td>\n",
       "    </tr>\n",
       "    <tr>\n",
       "      <td>400</td>\n",
       "      <td>0.213100</td>\n",
       "    </tr>\n",
       "    <tr>\n",
       "      <td>500</td>\n",
       "      <td>0.168000</td>\n",
       "    </tr>\n",
       "    <tr>\n",
       "      <td>600</td>\n",
       "      <td>0.146100</td>\n",
       "    </tr>\n",
       "    <tr>\n",
       "      <td>700</td>\n",
       "      <td>0.144000</td>\n",
       "    </tr>\n",
       "    <tr>\n",
       "      <td>800</td>\n",
       "      <td>0.133400</td>\n",
       "    </tr>\n",
       "    <tr>\n",
       "      <td>900</td>\n",
       "      <td>0.122800</td>\n",
       "    </tr>\n",
       "    <tr>\n",
       "      <td>1000</td>\n",
       "      <td>0.093500</td>\n",
       "    </tr>\n",
       "    <tr>\n",
       "      <td>1100</td>\n",
       "      <td>0.089600</td>\n",
       "    </tr>\n",
       "    <tr>\n",
       "      <td>1200</td>\n",
       "      <td>0.094300</td>\n",
       "    </tr>\n",
       "    <tr>\n",
       "      <td>1300</td>\n",
       "      <td>0.077700</td>\n",
       "    </tr>\n",
       "    <tr>\n",
       "      <td>1400</td>\n",
       "      <td>0.084600</td>\n",
       "    </tr>\n",
       "    <tr>\n",
       "      <td>1500</td>\n",
       "      <td>0.083200</td>\n",
       "    </tr>\n",
       "    <tr>\n",
       "      <td>1600</td>\n",
       "      <td>0.088100</td>\n",
       "    </tr>\n",
       "    <tr>\n",
       "      <td>1700</td>\n",
       "      <td>0.078300</td>\n",
       "    </tr>\n",
       "    <tr>\n",
       "      <td>1800</td>\n",
       "      <td>0.076500</td>\n",
       "    </tr>\n",
       "    <tr>\n",
       "      <td>1900</td>\n",
       "      <td>0.055900</td>\n",
       "    </tr>\n",
       "    <tr>\n",
       "      <td>2000</td>\n",
       "      <td>0.048700</td>\n",
       "    </tr>\n",
       "    <tr>\n",
       "      <td>2100</td>\n",
       "      <td>0.057100</td>\n",
       "    </tr>\n",
       "    <tr>\n",
       "      <td>2200</td>\n",
       "      <td>0.062600</td>\n",
       "    </tr>\n",
       "    <tr>\n",
       "      <td>2300</td>\n",
       "      <td>0.049600</td>\n",
       "    </tr>\n",
       "    <tr>\n",
       "      <td>2400</td>\n",
       "      <td>0.051000</td>\n",
       "    </tr>\n",
       "    <tr>\n",
       "      <td>2500</td>\n",
       "      <td>0.047800</td>\n",
       "    </tr>\n",
       "    <tr>\n",
       "      <td>2600</td>\n",
       "      <td>0.046200</td>\n",
       "    </tr>\n",
       "    <tr>\n",
       "      <td>2700</td>\n",
       "      <td>0.041200</td>\n",
       "    </tr>\n",
       "    <tr>\n",
       "      <td>2800</td>\n",
       "      <td>0.036600</td>\n",
       "    </tr>\n",
       "    <tr>\n",
       "      <td>2900</td>\n",
       "      <td>0.033600</td>\n",
       "    </tr>\n",
       "    <tr>\n",
       "      <td>3000</td>\n",
       "      <td>0.031700</td>\n",
       "    </tr>\n",
       "    <tr>\n",
       "      <td>3100</td>\n",
       "      <td>0.035200</td>\n",
       "    </tr>\n",
       "    <tr>\n",
       "      <td>3200</td>\n",
       "      <td>0.039900</td>\n",
       "    </tr>\n",
       "    <tr>\n",
       "      <td>3300</td>\n",
       "      <td>0.032600</td>\n",
       "    </tr>\n",
       "    <tr>\n",
       "      <td>3400</td>\n",
       "      <td>0.033200</td>\n",
       "    </tr>\n",
       "    <tr>\n",
       "      <td>3500</td>\n",
       "      <td>0.031300</td>\n",
       "    </tr>\n",
       "    <tr>\n",
       "      <td>3600</td>\n",
       "      <td>0.030100</td>\n",
       "    </tr>\n",
       "    <tr>\n",
       "      <td>3700</td>\n",
       "      <td>0.022400</td>\n",
       "    </tr>\n",
       "    <tr>\n",
       "      <td>3800</td>\n",
       "      <td>0.025100</td>\n",
       "    </tr>\n",
       "    <tr>\n",
       "      <td>3900</td>\n",
       "      <td>0.025000</td>\n",
       "    </tr>\n",
       "    <tr>\n",
       "      <td>4000</td>\n",
       "      <td>0.024500</td>\n",
       "    </tr>\n",
       "    <tr>\n",
       "      <td>4100</td>\n",
       "      <td>0.022700</td>\n",
       "    </tr>\n",
       "    <tr>\n",
       "      <td>4200</td>\n",
       "      <td>0.026700</td>\n",
       "    </tr>\n",
       "    <tr>\n",
       "      <td>4300</td>\n",
       "      <td>0.021500</td>\n",
       "    </tr>\n",
       "    <tr>\n",
       "      <td>4400</td>\n",
       "      <td>0.021100</td>\n",
       "    </tr>\n",
       "  </tbody>\n",
       "</table><p>"
      ],
      "text/plain": [
       "<IPython.core.display.HTML object>"
      ]
     },
     "metadata": {},
     "output_type": "display_data"
    },
    {
     "data": {
      "text/plain": [
       "TrainOutput(global_step=4445, training_loss=0.08841807466792309, metrics={'train_runtime': 482.462, 'train_samples_per_second': 9.213, 'total_flos': 3067172065497600.0, 'epoch': 5.0, 'init_mem_cpu_alloc_delta': 4231168, 'init_mem_gpu_alloc_delta': 0, 'init_mem_cpu_peaked_delta': 0, 'init_mem_gpu_peaked_delta': 0, 'train_mem_cpu_alloc_delta': 27475968, 'train_mem_gpu_alloc_delta': 1379048448, 'train_mem_cpu_peaked_delta': 215003136, 'train_mem_gpu_peaked_delta': 900408320})"
      ]
     },
     "execution_count": 33,
     "metadata": {},
     "output_type": "execute_result"
    }
   ],
   "source": [
    "trainer.train()"
   ]
  },
  {
   "cell_type": "code",
   "execution_count": 34,
   "metadata": {},
   "outputs": [
    {
     "data": {
      "text/html": [
       "\n",
       "    <div>\n",
       "        <style>\n",
       "            /* Turns off some styling */\n",
       "            progress {\n",
       "                /* gets rid of default border in Firefox and Opera. */\n",
       "                border: none;\n",
       "                /* Needs to be in here for Safari polyfill so background images work as expected. */\n",
       "                background-size: auto;\n",
       "            }\n",
       "        </style>\n",
       "      \n",
       "      <progress value='35' max='35' style='width:300px; height:20px; vertical-align: middle;'></progress>\n",
       "      [35/35 00:02]\n",
       "    </div>\n",
       "    "
      ],
      "text/plain": [
       "<IPython.core.display.HTML object>"
      ]
     },
     "metadata": {},
     "output_type": "display_data"
    },
    {
     "name": "stdout",
     "output_type": "stream",
     "text": [
      "(2219, 128, 13) (2219, 128)\n"
     ]
    }
   ],
   "source": [
    "predictions = trainer.predict(dev_dataset)\n",
    "print(predictions.predictions.shape, predictions.label_ids.shape)"
   ]
  },
  {
   "cell_type": "code",
   "execution_count": 35,
   "metadata": {},
   "outputs": [],
   "source": [
    "import numpy as np\n",
    "\n",
    "preds = np.argmax(predictions.predictions, axis=-1)"
   ]
  },
  {
   "cell_type": "code",
   "execution_count": 36,
   "metadata": {},
   "outputs": [],
   "source": [
    "index_to_ner = {i:j for j, i in tag2id.items()}\n",
    "f_label = [i for i, j in tag2id.items()]\n",
    "val_tags_l = [index_to_ner[x] for x in np.ravel(predictions.label_ids).astype(int).tolist()]\n",
    "y_predicted_l = [index_to_ner[x] for x in np.ravel(preds).astype(int).tolist()]"
   ]
  },
  {
   "cell_type": "code",
   "execution_count": 37,
   "metadata": {},
   "outputs": [],
   "source": [
    "from sklearn.metrics import precision_score, recall_score, f1_score, classification_report"
   ]
  },
  {
   "cell_type": "code",
   "execution_count": 38,
   "metadata": {},
   "outputs": [
    {
     "name": "stdout",
     "output_type": "stream",
     "text": [
      "              precision    recall  f1-score   support\n",
      "\n",
      "        I-TI       0.92      0.98      0.95       833\n",
      "        B-PS       0.91      0.91      0.91      2008\n",
      "        I-LC       0.80      0.82      0.81      2640\n",
      "        I-DT       0.92      0.92      0.92      2945\n",
      "        B-DT       0.88      0.92      0.90      1039\n",
      "        I-QT       0.92      0.95      0.93      3419\n",
      "        I-OG       0.79      0.81      0.80      3405\n",
      "        I-PS       0.91      0.91      0.91      4576\n",
      "           O       0.99      0.99      0.99    259763\n",
      "        B-TI       0.94      0.96      0.95       236\n",
      "        B-QT       0.94      0.95      0.95      1443\n",
      "        B-OG       0.75      0.82      0.78       932\n",
      "        B-LC       0.80      0.85      0.83       793\n",
      "\n",
      "    accuracy                           0.98    284032\n",
      "   macro avg       0.88      0.91      0.89    284032\n",
      "weighted avg       0.98      0.98      0.98    284032\n",
      "\n"
     ]
    }
   ],
   "source": [
    "print(classification_report(val_tags_l, y_predicted_l, labels=f_label))"
   ]
  },
  {
   "cell_type": "markdown",
   "metadata": {
    "id": "Zwxa-0SSYz4n"
   },
   "source": [
    "### 11. New Data Inference"
   ]
  },
  {
   "cell_type": "code",
   "execution_count": 39,
   "metadata": {
    "id": "xNbhCmsjo7F6"
   },
   "outputs": [],
   "source": [
    "# 우리가 전에 사용했던건 word piece tokenizer\n",
    "# 지금 사용한건 음절단위 tokenizer\n",
    "# 반드시 음절 tokenizer를 거친 후에 model에 들어가야 한다.\n",
    "\n",
    "def ner_inference(text) : \n",
    "  \n",
    "    model.eval()\n",
    "    text = text.replace(' ', '_')\n",
    "\n",
    "    predictions , true_labels = [], []\n",
    "    \n",
    "    tokenized_sent = ner_tokenizer(text, len(text)+2)\n",
    "    input_ids = torch.tensor(tokenized_sent['input_ids']).unsqueeze(0).to(device)\n",
    "    attention_mask = torch.tensor(tokenized_sent['attention_mask']).unsqueeze(0).to(device)\n",
    "    token_type_ids = torch.tensor(tokenized_sent['token_type_ids']).unsqueeze(0).to(device)    \n",
    "    \n",
    "    with torch.no_grad():\n",
    "        outputs = model(\n",
    "            input_ids=input_ids,\n",
    "            attention_mask=attention_mask,\n",
    "            token_type_ids=token_type_ids)\n",
    "        \n",
    "    logits = outputs['logits']\n",
    "    logits = logits.detach().cpu().numpy()\n",
    "    label_ids = token_type_ids.cpu().numpy()\n",
    "\n",
    "    predictions.extend([list(p) for p in np.argmax(logits, axis=2)])\n",
    "    true_labels.append(label_ids)\n",
    "\n",
    "    pred_tags = [list(tag2id.keys())[p_i] for p in predictions for p_i in p]\n",
    "\n",
    "    print('{}\\t{}'.format(\"TOKEN\", \"TAG\"))\n",
    "    print(\"===========\")\n",
    "    # for token, tag in zip(tokenizer.decode(tokenized_sent['input_ids']), pred_tags):\n",
    "    #   print(\"{:^5}\\t{:^5}\".format(token, tag))\n",
    "    for i, tag in enumerate(pred_tags):\n",
    "        print(\"{:^5}\\t{:^5}\".format(tokenizer.convert_ids_to_tokens(tokenized_sent['input_ids'][i]), tag))"
   ]
  },
  {
   "cell_type": "code",
   "execution_count": 40,
   "metadata": {
    "id": "YLwEbRKEYzSW"
   },
   "outputs": [],
   "source": [
    "text = '이순신은 조선 중기의 무신이다.'"
   ]
  },
  {
   "cell_type": "code",
   "execution_count": 41,
   "metadata": {
    "colab": {
     "base_uri": "https://localhost:8080/"
    },
    "id": "7iHdaziApA-w",
    "outputId": "af8a6d6c-78a0-4a91-e202-2694322ad49b"
   },
   "outputs": [
    {
     "name": "stdout",
     "output_type": "stream",
     "text": [
      "TOKEN\tTAG\n",
      "===========\n",
      "[CLS]\t  O  \n",
      "  이  \tB-PS \n",
      " ##순 \tI-PS \n",
      " ##신 \tI-PS \n",
      " ##은 \t  O  \n",
      "  _  \t  O  \n",
      "  조  \tB-DT \n",
      " ##선 \tI-DT \n",
      "  _  \tI-DT \n",
      "  중  \tI-DT \n",
      " ##기 \tI-DT \n",
      " ##의 \t  O  \n",
      "  _  \t  O  \n",
      "  무  \t  O  \n",
      " ##신 \t  O  \n",
      " ##이 \t  O  \n",
      " ##다 \t  O  \n",
      "[UNK]\t  O  \n",
      "[SEP]\t  O  \n"
     ]
    }
   ],
   "source": [
    "ner_inference(text)"
   ]
  },
  {
   "cell_type": "code",
   "execution_count": 42,
   "metadata": {
    "colab": {
     "base_uri": "https://localhost:8080/"
    },
    "id": "bT8tTBpj404h",
    "outputId": "9f36de14-1f9b-491c-ffcb-5cf5621c677f"
   },
   "outputs": [
    {
     "name": "stdout",
     "output_type": "stream",
     "text": [
      "TOKEN\tTAG\n",
      "===========\n",
      "[CLS]\t  O  \n",
      "  로  \tB-OG \n",
      " ##스 \tI-OG \n",
      " ##트 \tI-PS \n",
      " ##아 \tI-OG \n",
      " ##크 \tI-OG \n",
      " ##는 \t  O  \n",
      "  _  \t  O  \n",
      "  스  \t  O  \n",
      " ##마 \t  O  \n",
      " ##일 \t  O  \n",
      " ##게 \t  O  \n",
      " ##이 \t  O  \n",
      " ##트 \t  O  \n",
      "  _  \t  O  \n",
      "  R  \tB-OG \n",
      " ##P \tI-OG \n",
      " ##G \tI-OG \n",
      " ##가 \t  O  \n",
      "  _  \t  O  \n",
      "  개  \t  O  \n",
      " ##발 \t  O  \n",
      " ##한 \t  O  \n",
      "  _  \t  O  \n",
      "  쿼  \t  O  \n",
      " ##터 \t  O  \n",
      " ##뷰 \t  O  \n",
      "  _  \t  O  \n",
      "  액  \t  O  \n",
      " ##션 \t  O  \n",
      "  _  \t  O  \n",
      "  M  \t  O  \n",
      " ##M \t  O  \n",
      " ##O \t  O  \n",
      " ##R \t  O  \n",
      " ##P \t  O  \n",
      " ##G \t  O  \n",
      "  _  \t  O  \n",
      "  게  \t  O  \n",
      " ##임 \t  O  \n",
      " ##이 \t  O  \n",
      " ##다 \t  O  \n",
      "[UNK]\t  O  \n",
      "[SEP]\t  O  \n"
     ]
    }
   ],
   "source": [
    "text = '로스트아크는 스마일게이트 RPG가 개발한 쿼터뷰 액션 MMORPG 게임이다.'\n",
    "ner_inference(text)"
   ]
  },
  {
   "cell_type": "code",
   "execution_count": 43,
   "metadata": {
    "colab": {
     "base_uri": "https://localhost:8080/"
    },
    "id": "FYqWDExcMeyo",
    "outputId": "f789384e-b2aa-4f93-ba0d-42670ddea552"
   },
   "outputs": [
    {
     "name": "stdout",
     "output_type": "stream",
     "text": [
      "TOKEN\tTAG\n",
      "===========\n",
      "[CLS]\t  O  \n",
      "  2  \tB-DT \n",
      " ##0 \tI-DT \n",
      " ##1 \tI-DT \n",
      " ##4 \tI-DT \n",
      " ##년 \tI-DT \n",
      "  _  \tI-DT \n",
      "  1  \tI-DT \n",
      " ##1 \tI-DT \n",
      " ##월 \tI-DT \n",
      "  _  \tI-DT \n",
      "  1  \tI-DT \n",
      " ##2 \tI-DT \n",
      " ##일 \tI-DT \n",
      "  _  \t  O  \n",
      "  최  \t  O  \n",
      " ##초 \t  O  \n",
      "  _  \t  O  \n",
      "  공  \t  O  \n",
      " ##개 \t  O  \n",
      " ##했 \t  O  \n",
      " ##으 \t  O  \n",
      " ##며 \t  O  \n",
      "  _  \t  O  \n",
      "  2  \tB-DT \n",
      " ##0 \tI-DT \n",
      " ##1 \tI-DT \n",
      " ##8 \tI-DT \n",
      " ##년 \tI-DT \n",
      "  _  \tI-DT \n",
      "  1  \tI-DT \n",
      " ##1 \tI-DT \n",
      " ##월 \tI-DT \n",
      "  _  \tI-DT \n",
      "  7  \tI-DT \n",
      " ##일 \tI-DT \n",
      " ##부 \t  O  \n",
      " ##터 \t  O  \n",
      "  _  \t  O  \n",
      "  오  \t  O  \n",
      " ##픈 \t  O  \n",
      "  _  \t  O  \n",
      "  베  \t  O  \n",
      " ##타 \t  O  \n",
      "  _  \t  O  \n",
      "  테  \t  O  \n",
      " ##스 \t  O  \n",
      " ##트 \t  O  \n",
      " ##를 \t  O  \n",
      "  _  \t  O  \n",
      "  진  \t  O  \n",
      " ##행 \t  O  \n",
      " ##하 \t  O  \n",
      " ##다 \t  O  \n",
      "  _  \t  O  \n",
      "  2  \tB-DT \n",
      " ##0 \tI-DT \n",
      " ##1 \tI-DT \n",
      " ##9 \tI-DT \n",
      " ##년 \tI-DT \n",
      "  _  \tI-DT \n",
      "  1  \tI-DT \n",
      " ##2 \tI-DT \n",
      " ##월 \tI-DT \n",
      "  _  \tI-DT \n",
      "  4  \tI-DT \n",
      " ##일 \tI-DT \n",
      "  _  \t  O  \n",
      "  정  \t  O  \n",
      " ##식 \t  O  \n",
      "  _  \t  O  \n",
      "  오  \t  O  \n",
      " ##픈 \t  O  \n",
      " ##했 \t  O  \n",
      " ##다 \t  O  \n",
      "[UNK]\t  O  \n",
      "[SEP]\t  O  \n"
     ]
    }
   ],
   "source": [
    "text = '2014년 11월 12일 최초 공개했으며 2018년 11월 7일부터 오픈 베타 테스트를 진행하다 2019년 12월 4일 정식 오픈했다.'\n",
    "ner_inference(text)"
   ]
  },
  {
   "cell_type": "code",
   "execution_count": 44,
   "metadata": {
    "colab": {
     "base_uri": "https://localhost:8080/"
    },
    "id": "Vbypc3ZvjxtR",
    "outputId": "07e8b6a9-1489-4087-b799-07ef1f543d87"
   },
   "outputs": [
    {
     "name": "stdout",
     "output_type": "stream",
     "text": [
      "TOKEN\tTAG\n",
      "===========\n",
      "[CLS]\t  O  \n",
      "  짜  \t  O  \n",
      " ##장 \t  O  \n",
      " ##면 \t  O  \n",
      "  _  \t  O  \n",
      "  7  \tB-QT \n",
      "[UNK]\tI-QT \n",
      " ##0 \tI-QT \n",
      " ##0 \tI-QT \n",
      " ##0 \tI-QT \n",
      " ##원 \tI-QT \n",
      "[SEP]\t  O  \n"
     ]
    }
   ],
   "source": [
    "text = '짜장면 7,000원'\n",
    "ner_inference(text)"
   ]
  },
  {
   "cell_type": "code",
   "execution_count": 45,
   "metadata": {
    "id": "HhmabYs8kD4R"
   },
   "outputs": [
    {
     "name": "stdout",
     "output_type": "stream",
     "text": [
      "TOKEN\tTAG\n",
      "===========\n",
      "[CLS]\t  O  \n",
      "  안  \t  O  \n",
      " ##녕 \t  O  \n",
      " ##하 \t  O  \n",
      " ##세 \t  O  \n",
      " ##요 \t  O  \n",
      "  _  \t  O  \n",
      "  저  \t  O  \n",
      " ##는 \t  O  \n",
      "  _  \t  O  \n",
      "  이  \tB-PS \n",
      " ##지 \tI-PS \n",
      " ##평 \tI-PS \n",
      " ##이 \t  O  \n",
      " ##라 \t  O  \n",
      " ##고 \t  O  \n",
      "  _  \t  O  \n",
      "  합  \t  O  \n",
      " ##니 \t  O  \n",
      " ##다 \t  O  \n",
      "[UNK]\t  O  \n",
      "  _  \t  O  \n",
      "  국  \tB-OG \n",
      " ##민 \tI-OG \n",
      " ##대 \tI-OG \n",
      " ##학 \tI-OG \n",
      " ##교 \tI-OG \n",
      " ##에 \t  O  \n",
      "  _  \t  O  \n",
      "  다  \t  O  \n",
      " ##니 \t  O  \n",
      " ##고 \t  O  \n",
      "  _  \t  O  \n",
      "  있  \t  O  \n",
      " ##으 \t  O  \n",
      " ##며 \t  O  \n",
      "[UNK]\t  O  \n",
      "  _  \t  O  \n",
      "  현  \t  O  \n",
      " ##재 \t  O  \n",
      " ##는 \t  O  \n",
      "  _  \t  O  \n",
      "  4  \tB-QT \n",
      " ##학 \tI-QT \n",
      " ##년 \tI-QT \n",
      "  _  \tI-QT \n",
      "  1  \tI-QT \n",
      " ##학 \tI-QT \n",
      " ##기 \tI-QT \n",
      " ##를 \t  O  \n",
      "  _  \t  O  \n",
      "  마  \t  O  \n",
      " ##쳤 \t  O  \n",
      " ##습 \t  O  \n",
      " ##니 \t  O  \n",
      " ##다 \t  O  \n",
      "[UNK]\t  O  \n",
      "[SEP]\t  O  \n"
     ]
    }
   ],
   "source": [
    "text = '안녕하세요 저는 이지평이라고 합니다. 국민대학교에 다니고 있으며, 현재는 4학년 1학기를 마쳤습니다.'\n",
    "ner_inference(text)"
   ]
  },
  {
   "cell_type": "code",
   "execution_count": 46,
   "metadata": {},
   "outputs": [
    {
     "name": "stdout",
     "output_type": "stream",
     "text": [
      "TOKEN\tTAG\n",
      "===========\n",
      "[CLS]\t  O  \n",
      "  안  \t  O  \n",
      " ##녕 \t  O  \n",
      " ##하 \t  O  \n",
      " ##세 \t  O  \n",
      " ##요 \t  O  \n",
      "  _  \t  O  \n",
      "  저  \t  O  \n",
      " ##는 \t  O  \n",
      "  _  \t  O  \n",
      "  이  \tB-PS \n",
      " ##지 \tI-PS \n",
      " ##평 \tI-PS \n",
      " ##이 \t  O  \n",
      " ##라 \t  O  \n",
      " ##고 \t  O  \n",
      "  _  \t  O  \n",
      "  합  \t  O  \n",
      " ##니 \t  O  \n",
      " ##다 \t  O  \n",
      "[UNK]\t  O  \n",
      "  _  \t  O  \n",
      "  국  \tB-OG \n",
      " ##민 \tI-OG \n",
      " ##대 \tI-OG \n",
      " ##학 \tI-OG \n",
      " ##교 \tI-OG \n",
      " ##에 \t  O  \n",
      "  _  \t  O  \n",
      "  다  \t  O  \n",
      " ##니 \t  O  \n",
      " ##고 \t  O  \n",
      "  _  \t  O  \n",
      "  있  \t  O  \n",
      " ##으 \t  O  \n",
      " ##며 \t  O  \n",
      "[UNK]\t  O  \n",
      "  _  \t  O  \n",
      "  현  \t  O  \n",
      " ##재 \t  O  \n",
      " ##는 \t  O  \n",
      "  _  \t  O  \n",
      "  4  \tB-QT \n",
      " ##학 \tI-QT \n",
      " ##년 \tI-QT \n",
      "  _  \tI-QT \n",
      "  1  \tI-QT \n",
      " ##학 \tI-QT \n",
      " ##기 \tI-QT \n",
      " ##를 \t  O  \n",
      "  _  \t  O  \n",
      "  마  \t  O  \n",
      " ##쳤 \t  O  \n",
      " ##습 \t  O  \n",
      " ##니 \t  O  \n",
      " ##다 \t  O  \n",
      "[UNK]\t  O  \n",
      "[SEP]\t  O  \n"
     ]
    }
   ],
   "source": [
    "text = '안녕하세요 저는 이지평이라고 합니다. 국민대학교에 다니고 있으며, 현재는 4학년 1학기를 마쳤습니다.'\n",
    "ner_inference(text)"
   ]
  },
  {
   "cell_type": "code",
   "execution_count": 47,
   "metadata": {},
   "outputs": [
    {
     "name": "stdout",
     "output_type": "stream",
     "text": [
      "TOKEN\tTAG\n",
      "===========\n",
      "[CLS]\t  O  \n",
      "  이  \tB-PS \n",
      " ##지 \tI-PS \n",
      " ##평 \tI-PS \n",
      "[SEP]\t  O  \n"
     ]
    }
   ],
   "source": [
    "text = '이지평'\n",
    "ner_inference(text)"
   ]
  },
  {
   "cell_type": "code",
   "execution_count": 48,
   "metadata": {},
   "outputs": [
    {
     "name": "stdout",
     "output_type": "stream",
     "text": [
      "TOKEN\tTAG\n",
      "===========\n",
      "[CLS]\t  O  \n",
      "  마  \tB-PS \n",
      " ##민 \tI-PS \n",
      " ##정 \tI-PS \n",
      "[SEP]\t  O  \n"
     ]
    }
   ],
   "source": [
    "text = '마민정'\n",
    "ner_inference(text)"
   ]
  },
  {
   "cell_type": "code",
   "execution_count": 49,
   "metadata": {},
   "outputs": [
    {
     "name": "stdout",
     "output_type": "stream",
     "text": [
      "TOKEN\tTAG\n",
      "===========\n",
      "[CLS]\t  O  \n",
      "  유  \tB-PS \n",
      " ##광 \tI-PS \n",
      " ##열 \tI-PS \n",
      "[SEP]\t  O  \n"
     ]
    }
   ],
   "source": [
    "text = '유광열'\n",
    "ner_inference(text)"
   ]
  },
  {
   "cell_type": "code",
   "execution_count": 50,
   "metadata": {},
   "outputs": [
    {
     "name": "stdout",
     "output_type": "stream",
     "text": [
      "TOKEN\tTAG\n",
      "===========\n",
      "[CLS]\t  O  \n",
      "  최  \tB-PS \n",
      " ##현 \tI-PS \n",
      " ##상 \tI-PS \n",
      "  _  \t  O  \n",
      "  멘  \t  O  \n",
      " ##토 \t  O  \n",
      " ##님 \t  O  \n",
      "[SEP]\t  O  \n"
     ]
    }
   ],
   "source": [
    "text = '최현상 멘토님'\n",
    "ner_inference(text)"
   ]
  },
  {
   "cell_type": "code",
   "execution_count": 51,
   "metadata": {},
   "outputs": [
    {
     "name": "stdout",
     "output_type": "stream",
     "text": [
      "TOKEN\tTAG\n",
      "===========\n",
      "[CLS]\t  O  \n",
      "  강  \tB-PS \n",
      " ##다 \tI-PS \n",
      " ##니 \tI-PS \n",
      " ##엘 \tI-PS \n",
      "[SEP]\t  O  \n"
     ]
    }
   ],
   "source": [
    "text = '강다니엘'\n",
    "ner_inference(text)"
   ]
  },
  {
   "cell_type": "code",
   "execution_count": 52,
   "metadata": {},
   "outputs": [
    {
     "name": "stdout",
     "output_type": "stream",
     "text": [
      "TOKEN\tTAG\n",
      "===========\n",
      "[CLS]\t  O  \n",
      "  최  \tB-PS \n",
      " ##다 \tI-PS \n",
      " ##니 \tI-PS \n",
      " ##엘 \tI-PS \n",
      "[SEP]\t  O  \n"
     ]
    }
   ],
   "source": [
    "text = '최다니엘'\n",
    "ner_inference(text)"
   ]
  },
  {
   "cell_type": "code",
   "execution_count": 53,
   "metadata": {},
   "outputs": [
    {
     "name": "stdout",
     "output_type": "stream",
     "text": [
      "TOKEN\tTAG\n",
      "===========\n",
      "[CLS]\t  O  \n",
      "  백  \tB-PS \n",
      " ##지 \tI-PS \n",
      " ##헌 \tI-PS \n",
      "[SEP]\t  O  \n"
     ]
    }
   ],
   "source": [
    "text = '백지헌'\n",
    "ner_inference(text)"
   ]
  },
  {
   "cell_type": "code",
   "execution_count": 54,
   "metadata": {},
   "outputs": [
    {
     "name": "stdout",
     "output_type": "stream",
     "text": [
      "TOKEN\tTAG\n",
      "===========\n",
      "[CLS]\t  O  \n",
      "  장  \tB-PS \n",
      " ##규 \tI-PS \n",
      " ##리 \tI-PS \n",
      "[SEP]\t  O  \n"
     ]
    }
   ],
   "source": [
    "text = '장규리'\n",
    "ner_inference(text)"
   ]
  },
  {
   "cell_type": "code",
   "execution_count": 55,
   "metadata": {},
   "outputs": [
    {
     "name": "stdout",
     "output_type": "stream",
     "text": [
      "TOKEN\tTAG\n",
      "===========\n",
      "[CLS]\t  O  \n",
      "  오  \tB-PS \n",
      " ##슬 \tI-PS \n",
      " ##기 \tI-PS \n",
      " ##나 \t  O  \n",
      " ##래 \t  O  \n",
      "[SEP]\t  O  \n"
     ]
    }
   ],
   "source": [
    "text = '오슬기나래'\n",
    "ner_inference(text)"
   ]
  },
  {
   "cell_type": "code",
   "execution_count": 56,
   "metadata": {},
   "outputs": [
    {
     "name": "stdout",
     "output_type": "stream",
     "text": [
      "TOKEN\tTAG\n",
      "===========\n",
      "[CLS]\t  O  \n",
      "  크  \tB-DT \n",
      " ##리 \tI-DT \n",
      " ##스 \tI-DT \n",
      " ##티 \tI-DT \n",
      " ##나 \tI-DT \n",
      "[SEP]\t  O  \n"
     ]
    }
   ],
   "source": [
    "text = '크리스티나'\n",
    "ner_inference(text)"
   ]
  },
  {
   "cell_type": "code",
   "execution_count": 57,
   "metadata": {},
   "outputs": [
    {
     "name": "stdout",
     "output_type": "stream",
     "text": [
      "TOKEN\tTAG\n",
      "===========\n",
      "[CLS]\t  O  \n",
      "  크  \tB-PS \n",
      " ##리 \tI-PS \n",
      " ##스 \tI-PS \n",
      " ##토 \tI-PS \n",
      " ##퍼 \tI-PS \n",
      "[SEP]\t  O  \n"
     ]
    }
   ],
   "source": [
    "text = '크리스토퍼'\n",
    "ner_inference(text)"
   ]
  },
  {
   "cell_type": "code",
   "execution_count": 58,
   "metadata": {},
   "outputs": [
    {
     "name": "stdout",
     "output_type": "stream",
     "text": [
      "TOKEN\tTAG\n",
      "===========\n",
      "[CLS]\t  O  \n",
      "  레  \t  O  \n",
      " ##오 \tI-PS \n",
      " ##나 \tI-PS \n",
      " ##르 \t  O  \n",
      " ##도 \t  O  \n",
      "[SEP]\t  O  \n"
     ]
    }
   ],
   "source": [
    "text = '레오나르도'\n",
    "ner_inference(text)"
   ]
  },
  {
   "cell_type": "code",
   "execution_count": 59,
   "metadata": {},
   "outputs": [
    {
     "name": "stdout",
     "output_type": "stream",
     "text": [
      "TOKEN\tTAG\n",
      "===========\n",
      "[CLS]\t  O  \n",
      "  엘  \tB-PS \n",
      " ##리 \tI-PS \n",
      " ##자 \tI-PS \n",
      " ##베 \tI-PS \n",
      " ##스 \tI-PS \n",
      "[SEP]\t  O  \n"
     ]
    }
   ],
   "source": [
    "text = '엘리자베스'\n",
    "ner_inference(text)"
   ]
  },
  {
   "cell_type": "code",
   "execution_count": 60,
   "metadata": {},
   "outputs": [
    {
     "name": "stdout",
     "output_type": "stream",
     "text": [
      "TOKEN\tTAG\n",
      "===========\n",
      "[CLS]\t  O  \n",
      "  크  \tB-PS \n",
      " ##리 \tI-PS \n",
      " ##스 \tI-PS \n",
      " ##티 \tI-PS \n",
      " ##안 \tI-PS \n",
      "[SEP]\t  O  \n"
     ]
    }
   ],
   "source": [
    "text = '크리스티안'\n",
    "ner_inference(text)"
   ]
  },
  {
   "cell_type": "code",
   "execution_count": 61,
   "metadata": {},
   "outputs": [
    {
     "name": "stdout",
     "output_type": "stream",
     "text": [
      "TOKEN\tTAG\n",
      "===========\n",
      "[CLS]\t  O  \n",
      "  세  \tB-OG \n",
      " ##바 \tI-OG \n",
      " ##스 \tI-OG \n",
      " ##티 \tI-PS \n",
      " ##안 \tI-PS \n",
      "[SEP]\t  O  \n"
     ]
    }
   ],
   "source": [
    "text = '세바스티안'\n",
    "ner_inference(text)"
   ]
  },
  {
   "cell_type": "code",
   "execution_count": null,
   "metadata": {},
   "outputs": [],
   "source": []
  }
 ],
 "metadata": {
  "accelerator": "GPU",
  "colab": {
   "collapsed_sections": [],
   "name": "Day7_실습자료_0_문장_토큰_단위_학습.ipynb",
   "provenance": []
  },
  "kernelspec": {
   "display_name": "PyTorch 1.9.0 on Python 3.8 (CUDA 11.1)",
   "language": "python",
   "name": "python3"
  },
  "language_info": {
   "codemirror_mode": {
    "name": "ipython",
    "version": 3
   },
   "file_extension": ".py",
   "mimetype": "text/x-python",
   "name": "python",
   "nbconvert_exporter": "python",
   "pygments_lexer": "ipython3",
   "version": "3.8.7"
  },
  "vscode": {
   "interpreter": {
    "hash": "88632544536f896c8f35d918b5e3583a50162ec118335e005391c3e813c5eb36"
   }
  },
  "widgets": {
   "application/vnd.jupyter.widget-state+json": {
    "0e4ff2d0398642e2b722b915dacb9263": {
     "model_module": "@jupyter-widgets/controls",
     "model_module_version": "1.5.0",
     "model_name": "DescriptionStyleModel",
     "state": {
      "_model_module": "@jupyter-widgets/controls",
      "_model_module_version": "1.5.0",
      "_model_name": "DescriptionStyleModel",
      "_view_count": null,
      "_view_module": "@jupyter-widgets/base",
      "_view_module_version": "1.2.0",
      "_view_name": "StyleView",
      "description_width": ""
     }
    },
    "16d0c7091a4d427b819810afc390c8a2": {
     "model_module": "@jupyter-widgets/controls",
     "model_module_version": "1.5.0",
     "model_name": "FloatProgressModel",
     "state": {
      "_dom_classes": [],
      "_model_module": "@jupyter-widgets/controls",
      "_model_module_version": "1.5.0",
      "_model_name": "FloatProgressModel",
      "_view_count": null,
      "_view_module": "@jupyter-widgets/controls",
      "_view_module_version": "1.5.0",
      "_view_name": "ProgressView",
      "bar_style": "success",
      "description": "",
      "description_tooltip": null,
      "layout": "IPY_MODEL_fa280687d92b407a9c79f6816d3dc748",
      "max": 714314041,
      "min": 0,
      "orientation": "horizontal",
      "style": "IPY_MODEL_e94edd0ac80a411fbf7bcaf99dcd6884",
      "value": 714314041
     }
    },
    "174fa64142ed48cdbfc8379086241bcf": {
     "model_module": "@jupyter-widgets/controls",
     "model_module_version": "1.5.0",
     "model_name": "DescriptionStyleModel",
     "state": {
      "_model_module": "@jupyter-widgets/controls",
      "_model_module_version": "1.5.0",
      "_model_name": "DescriptionStyleModel",
      "_view_count": null,
      "_view_module": "@jupyter-widgets/base",
      "_view_module_version": "1.2.0",
      "_view_name": "StyleView",
      "description_width": ""
     }
    },
    "2016826f414e4444a32949bdeb98453d": {
     "model_module": "@jupyter-widgets/base",
     "model_module_version": "1.2.0",
     "model_name": "LayoutModel",
     "state": {
      "_model_module": "@jupyter-widgets/base",
      "_model_module_version": "1.2.0",
      "_model_name": "LayoutModel",
      "_view_count": null,
      "_view_module": "@jupyter-widgets/base",
      "_view_module_version": "1.2.0",
      "_view_name": "LayoutView",
      "align_content": null,
      "align_items": null,
      "align_self": null,
      "border": null,
      "bottom": null,
      "display": null,
      "flex": null,
      "flex_flow": null,
      "grid_area": null,
      "grid_auto_columns": null,
      "grid_auto_flow": null,
      "grid_auto_rows": null,
      "grid_column": null,
      "grid_gap": null,
      "grid_row": null,
      "grid_template_areas": null,
      "grid_template_columns": null,
      "grid_template_rows": null,
      "height": null,
      "justify_content": null,
      "justify_items": null,
      "left": null,
      "margin": null,
      "max_height": null,
      "max_width": null,
      "min_height": null,
      "min_width": null,
      "object_fit": null,
      "object_position": null,
      "order": null,
      "overflow": null,
      "overflow_x": null,
      "overflow_y": null,
      "padding": null,
      "right": null,
      "top": null,
      "visibility": null,
      "width": null
     }
    },
    "202f9bd86d2c45b2be9f092ba365d34d": {
     "model_module": "@jupyter-widgets/controls",
     "model_module_version": "1.5.0",
     "model_name": "HBoxModel",
     "state": {
      "_dom_classes": [],
      "_model_module": "@jupyter-widgets/controls",
      "_model_module_version": "1.5.0",
      "_model_name": "HBoxModel",
      "_view_count": null,
      "_view_module": "@jupyter-widgets/controls",
      "_view_module_version": "1.5.0",
      "_view_name": "HBoxView",
      "box_style": "",
      "children": [
       "IPY_MODEL_c5ed599c35d947c8bdbc150c72c5d210",
       "IPY_MODEL_a94cd514b5034be3b9cf043c18463acb",
       "IPY_MODEL_ee97f7ca04124c5085c0664072daf5d6"
      ],
      "layout": "IPY_MODEL_5237b073157c43a5b85a515a1fd54320"
     }
    },
    "214a003220c64f2da86fbdda78a21634": {
     "model_module": "@jupyter-widgets/base",
     "model_module_version": "1.2.0",
     "model_name": "LayoutModel",
     "state": {
      "_model_module": "@jupyter-widgets/base",
      "_model_module_version": "1.2.0",
      "_model_name": "LayoutModel",
      "_view_count": null,
      "_view_module": "@jupyter-widgets/base",
      "_view_module_version": "1.2.0",
      "_view_name": "LayoutView",
      "align_content": null,
      "align_items": null,
      "align_self": null,
      "border": null,
      "bottom": null,
      "display": null,
      "flex": null,
      "flex_flow": null,
      "grid_area": null,
      "grid_auto_columns": null,
      "grid_auto_flow": null,
      "grid_auto_rows": null,
      "grid_column": null,
      "grid_gap": null,
      "grid_row": null,
      "grid_template_areas": null,
      "grid_template_columns": null,
      "grid_template_rows": null,
      "height": null,
      "justify_content": null,
      "justify_items": null,
      "left": null,
      "margin": null,
      "max_height": null,
      "max_width": null,
      "min_height": null,
      "min_width": null,
      "object_fit": null,
      "object_position": null,
      "order": null,
      "overflow": null,
      "overflow_x": null,
      "overflow_y": null,
      "padding": null,
      "right": null,
      "top": null,
      "visibility": null,
      "width": null
     }
    },
    "23c58745bfce4b33a38824b9c311acea": {
     "model_module": "@jupyter-widgets/base",
     "model_module_version": "1.2.0",
     "model_name": "LayoutModel",
     "state": {
      "_model_module": "@jupyter-widgets/base",
      "_model_module_version": "1.2.0",
      "_model_name": "LayoutModel",
      "_view_count": null,
      "_view_module": "@jupyter-widgets/base",
      "_view_module_version": "1.2.0",
      "_view_name": "LayoutView",
      "align_content": null,
      "align_items": null,
      "align_self": null,
      "border": null,
      "bottom": null,
      "display": null,
      "flex": null,
      "flex_flow": null,
      "grid_area": null,
      "grid_auto_columns": null,
      "grid_auto_flow": null,
      "grid_auto_rows": null,
      "grid_column": null,
      "grid_gap": null,
      "grid_row": null,
      "grid_template_areas": null,
      "grid_template_columns": null,
      "grid_template_rows": null,
      "height": null,
      "justify_content": null,
      "justify_items": null,
      "left": null,
      "margin": null,
      "max_height": null,
      "max_width": null,
      "min_height": null,
      "min_width": null,
      "object_fit": null,
      "object_position": null,
      "order": null,
      "overflow": null,
      "overflow_x": null,
      "overflow_y": null,
      "padding": null,
      "right": null,
      "top": null,
      "visibility": null,
      "width": null
     }
    },
    "28462393a8a14567af97c4fc2e43f0a0": {
     "model_module": "@jupyter-widgets/base",
     "model_module_version": "1.2.0",
     "model_name": "LayoutModel",
     "state": {
      "_model_module": "@jupyter-widgets/base",
      "_model_module_version": "1.2.0",
      "_model_name": "LayoutModel",
      "_view_count": null,
      "_view_module": "@jupyter-widgets/base",
      "_view_module_version": "1.2.0",
      "_view_name": "LayoutView",
      "align_content": null,
      "align_items": null,
      "align_self": null,
      "border": null,
      "bottom": null,
      "display": null,
      "flex": null,
      "flex_flow": null,
      "grid_area": null,
      "grid_auto_columns": null,
      "grid_auto_flow": null,
      "grid_auto_rows": null,
      "grid_column": null,
      "grid_gap": null,
      "grid_row": null,
      "grid_template_areas": null,
      "grid_template_columns": null,
      "grid_template_rows": null,
      "height": null,
      "justify_content": null,
      "justify_items": null,
      "left": null,
      "margin": null,
      "max_height": null,
      "max_width": null,
      "min_height": null,
      "min_width": null,
      "object_fit": null,
      "object_position": null,
      "order": null,
      "overflow": null,
      "overflow_x": null,
      "overflow_y": null,
      "padding": null,
      "right": null,
      "top": null,
      "visibility": null,
      "width": null
     }
    },
    "29eec698f157400ca3f80274b231beaa": {
     "model_module": "@jupyter-widgets/controls",
     "model_module_version": "1.5.0",
     "model_name": "HBoxModel",
     "state": {
      "_dom_classes": [],
      "_model_module": "@jupyter-widgets/controls",
      "_model_module_version": "1.5.0",
      "_model_name": "HBoxModel",
      "_view_count": null,
      "_view_module": "@jupyter-widgets/controls",
      "_view_module_version": "1.5.0",
      "_view_name": "HBoxView",
      "box_style": "",
      "children": [
       "IPY_MODEL_471b5badbe4d4a4d847c8226145f63c1",
       "IPY_MODEL_f6c3f17a73bb46b1ae9f74a457385521",
       "IPY_MODEL_7320fec00cbb430ba311dd49ed353db2"
      ],
      "layout": "IPY_MODEL_f58106fb6fa14e2cbcba51ff64fd42af"
     }
    },
    "2ae1e276221e4db2814b6cc341dd0433": {
     "model_module": "@jupyter-widgets/controls",
     "model_module_version": "1.5.0",
     "model_name": "DescriptionStyleModel",
     "state": {
      "_model_module": "@jupyter-widgets/controls",
      "_model_module_version": "1.5.0",
      "_model_name": "DescriptionStyleModel",
      "_view_count": null,
      "_view_module": "@jupyter-widgets/base",
      "_view_module_version": "1.2.0",
      "_view_name": "StyleView",
      "description_width": ""
     }
    },
    "2bac51a16579471196f6d4876e02b0e5": {
     "model_module": "@jupyter-widgets/base",
     "model_module_version": "1.2.0",
     "model_name": "LayoutModel",
     "state": {
      "_model_module": "@jupyter-widgets/base",
      "_model_module_version": "1.2.0",
      "_model_name": "LayoutModel",
      "_view_count": null,
      "_view_module": "@jupyter-widgets/base",
      "_view_module_version": "1.2.0",
      "_view_name": "LayoutView",
      "align_content": null,
      "align_items": null,
      "align_self": null,
      "border": null,
      "bottom": null,
      "display": null,
      "flex": null,
      "flex_flow": null,
      "grid_area": null,
      "grid_auto_columns": null,
      "grid_auto_flow": null,
      "grid_auto_rows": null,
      "grid_column": null,
      "grid_gap": null,
      "grid_row": null,
      "grid_template_areas": null,
      "grid_template_columns": null,
      "grid_template_rows": null,
      "height": null,
      "justify_content": null,
      "justify_items": null,
      "left": null,
      "margin": null,
      "max_height": null,
      "max_width": null,
      "min_height": null,
      "min_width": null,
      "object_fit": null,
      "object_position": null,
      "order": null,
      "overflow": null,
      "overflow_x": null,
      "overflow_y": null,
      "padding": null,
      "right": null,
      "top": null,
      "visibility": null,
      "width": null
     }
    },
    "2c9e3e401b544d2eb63e024b5a5ed372": {
     "model_module": "@jupyter-widgets/base",
     "model_module_version": "1.2.0",
     "model_name": "LayoutModel",
     "state": {
      "_model_module": "@jupyter-widgets/base",
      "_model_module_version": "1.2.0",
      "_model_name": "LayoutModel",
      "_view_count": null,
      "_view_module": "@jupyter-widgets/base",
      "_view_module_version": "1.2.0",
      "_view_name": "LayoutView",
      "align_content": null,
      "align_items": null,
      "align_self": null,
      "border": null,
      "bottom": null,
      "display": null,
      "flex": null,
      "flex_flow": null,
      "grid_area": null,
      "grid_auto_columns": null,
      "grid_auto_flow": null,
      "grid_auto_rows": null,
      "grid_column": null,
      "grid_gap": null,
      "grid_row": null,
      "grid_template_areas": null,
      "grid_template_columns": null,
      "grid_template_rows": null,
      "height": null,
      "justify_content": null,
      "justify_items": null,
      "left": null,
      "margin": null,
      "max_height": null,
      "max_width": null,
      "min_height": null,
      "min_width": null,
      "object_fit": null,
      "object_position": null,
      "order": null,
      "overflow": null,
      "overflow_x": null,
      "overflow_y": null,
      "padding": null,
      "right": null,
      "top": null,
      "visibility": null,
      "width": null
     }
    },
    "2fdf6baf653148499a8ddec44d2b2074": {
     "model_module": "@jupyter-widgets/controls",
     "model_module_version": "1.5.0",
     "model_name": "HBoxModel",
     "state": {
      "_dom_classes": [],
      "_model_module": "@jupyter-widgets/controls",
      "_model_module_version": "1.5.0",
      "_model_name": "HBoxModel",
      "_view_count": null,
      "_view_module": "@jupyter-widgets/controls",
      "_view_module_version": "1.5.0",
      "_view_name": "HBoxView",
      "box_style": "",
      "children": [
       "IPY_MODEL_a3192117d2e242328d0ad3bef1840a2b",
       "IPY_MODEL_b85dd9ce9d354c3cbc53420b1b3d4ee5",
       "IPY_MODEL_f68d9266c94641a3a649599930986c04"
      ],
      "layout": "IPY_MODEL_214a003220c64f2da86fbdda78a21634"
     }
    },
    "372421550e214127a77b7da54afd4f5f": {
     "model_module": "@jupyter-widgets/controls",
     "model_module_version": "1.5.0",
     "model_name": "ProgressStyleModel",
     "state": {
      "_model_module": "@jupyter-widgets/controls",
      "_model_module_version": "1.5.0",
      "_model_name": "ProgressStyleModel",
      "_view_count": null,
      "_view_module": "@jupyter-widgets/base",
      "_view_module_version": "1.2.0",
      "_view_name": "StyleView",
      "bar_color": null,
      "description_width": ""
     }
    },
    "44bf61a52a224301abab1eeee7c6c831": {
     "model_module": "@jupyter-widgets/controls",
     "model_module_version": "1.5.0",
     "model_name": "ProgressStyleModel",
     "state": {
      "_model_module": "@jupyter-widgets/controls",
      "_model_module_version": "1.5.0",
      "_model_name": "ProgressStyleModel",
      "_view_count": null,
      "_view_module": "@jupyter-widgets/base",
      "_view_module_version": "1.2.0",
      "_view_name": "StyleView",
      "bar_color": null,
      "description_width": ""
     }
    },
    "471b5badbe4d4a4d847c8226145f63c1": {
     "model_module": "@jupyter-widgets/controls",
     "model_module_version": "1.5.0",
     "model_name": "HTMLModel",
     "state": {
      "_dom_classes": [],
      "_model_module": "@jupyter-widgets/controls",
      "_model_module_version": "1.5.0",
      "_model_name": "HTMLModel",
      "_view_count": null,
      "_view_module": "@jupyter-widgets/controls",
      "_view_module_version": "1.5.0",
      "_view_name": "HTMLView",
      "description": "",
      "description_tooltip": null,
      "layout": "IPY_MODEL_9c64851af4f04f7c8988a74acf767eaa",
      "placeholder": "​",
      "style": "IPY_MODEL_0e4ff2d0398642e2b722b915dacb9263",
      "value": "Downloading: 100%"
     }
    },
    "5237b073157c43a5b85a515a1fd54320": {
     "model_module": "@jupyter-widgets/base",
     "model_module_version": "1.2.0",
     "model_name": "LayoutModel",
     "state": {
      "_model_module": "@jupyter-widgets/base",
      "_model_module_version": "1.2.0",
      "_model_name": "LayoutModel",
      "_view_count": null,
      "_view_module": "@jupyter-widgets/base",
      "_view_module_version": "1.2.0",
      "_view_name": "LayoutView",
      "align_content": null,
      "align_items": null,
      "align_self": null,
      "border": null,
      "bottom": null,
      "display": null,
      "flex": null,
      "flex_flow": null,
      "grid_area": null,
      "grid_auto_columns": null,
      "grid_auto_flow": null,
      "grid_auto_rows": null,
      "grid_column": null,
      "grid_gap": null,
      "grid_row": null,
      "grid_template_areas": null,
      "grid_template_columns": null,
      "grid_template_rows": null,
      "height": null,
      "justify_content": null,
      "justify_items": null,
      "left": null,
      "margin": null,
      "max_height": null,
      "max_width": null,
      "min_height": null,
      "min_width": null,
      "object_fit": null,
      "object_position": null,
      "order": null,
      "overflow": null,
      "overflow_x": null,
      "overflow_y": null,
      "padding": null,
      "right": null,
      "top": null,
      "visibility": null,
      "width": null
     }
    },
    "5a76b4e483da449791e1c029c9a18610": {
     "model_module": "@jupyter-widgets/base",
     "model_module_version": "1.2.0",
     "model_name": "LayoutModel",
     "state": {
      "_model_module": "@jupyter-widgets/base",
      "_model_module_version": "1.2.0",
      "_model_name": "LayoutModel",
      "_view_count": null,
      "_view_module": "@jupyter-widgets/base",
      "_view_module_version": "1.2.0",
      "_view_name": "LayoutView",
      "align_content": null,
      "align_items": null,
      "align_self": null,
      "border": null,
      "bottom": null,
      "display": null,
      "flex": null,
      "flex_flow": null,
      "grid_area": null,
      "grid_auto_columns": null,
      "grid_auto_flow": null,
      "grid_auto_rows": null,
      "grid_column": null,
      "grid_gap": null,
      "grid_row": null,
      "grid_template_areas": null,
      "grid_template_columns": null,
      "grid_template_rows": null,
      "height": null,
      "justify_content": null,
      "justify_items": null,
      "left": null,
      "margin": null,
      "max_height": null,
      "max_width": null,
      "min_height": null,
      "min_width": null,
      "object_fit": null,
      "object_position": null,
      "order": null,
      "overflow": null,
      "overflow_x": null,
      "overflow_y": null,
      "padding": null,
      "right": null,
      "top": null,
      "visibility": null,
      "width": null
     }
    },
    "5f7865e661c540a88b10808884b1a010": {
     "model_module": "@jupyter-widgets/controls",
     "model_module_version": "1.5.0",
     "model_name": "DescriptionStyleModel",
     "state": {
      "_model_module": "@jupyter-widgets/controls",
      "_model_module_version": "1.5.0",
      "_model_name": "DescriptionStyleModel",
      "_view_count": null,
      "_view_module": "@jupyter-widgets/base",
      "_view_module_version": "1.2.0",
      "_view_name": "StyleView",
      "description_width": ""
     }
    },
    "6169c3397432438fb838d92bebc82ffe": {
     "model_module": "@jupyter-widgets/controls",
     "model_module_version": "1.5.0",
     "model_name": "FloatProgressModel",
     "state": {
      "_dom_classes": [],
      "_model_module": "@jupyter-widgets/controls",
      "_model_module_version": "1.5.0",
      "_model_name": "FloatProgressModel",
      "_view_count": null,
      "_view_module": "@jupyter-widgets/controls",
      "_view_module_version": "1.5.0",
      "_view_name": "ProgressView",
      "bar_style": "success",
      "description": "",
      "description_tooltip": null,
      "layout": "IPY_MODEL_2c9e3e401b544d2eb63e024b5a5ed372",
      "max": 995526,
      "min": 0,
      "orientation": "horizontal",
      "style": "IPY_MODEL_db663e2c387e4c0a8897eac157c13b2a",
      "value": 995526
     }
    },
    "63312eeed48f43c48bb885cc65deb0e2": {
     "model_module": "@jupyter-widgets/base",
     "model_module_version": "1.2.0",
     "model_name": "LayoutModel",
     "state": {
      "_model_module": "@jupyter-widgets/base",
      "_model_module_version": "1.2.0",
      "_model_name": "LayoutModel",
      "_view_count": null,
      "_view_module": "@jupyter-widgets/base",
      "_view_module_version": "1.2.0",
      "_view_name": "LayoutView",
      "align_content": null,
      "align_items": null,
      "align_self": null,
      "border": null,
      "bottom": null,
      "display": null,
      "flex": null,
      "flex_flow": null,
      "grid_area": null,
      "grid_auto_columns": null,
      "grid_auto_flow": null,
      "grid_auto_rows": null,
      "grid_column": null,
      "grid_gap": null,
      "grid_row": null,
      "grid_template_areas": null,
      "grid_template_columns": null,
      "grid_template_rows": null,
      "height": null,
      "justify_content": null,
      "justify_items": null,
      "left": null,
      "margin": null,
      "max_height": null,
      "max_width": null,
      "min_height": null,
      "min_width": null,
      "object_fit": null,
      "object_position": null,
      "order": null,
      "overflow": null,
      "overflow_x": null,
      "overflow_y": null,
      "padding": null,
      "right": null,
      "top": null,
      "visibility": null,
      "width": null
     }
    },
    "6c88089be4a343babab248b9f74414c8": {
     "model_module": "@jupyter-widgets/controls",
     "model_module_version": "1.5.0",
     "model_name": "HTMLModel",
     "state": {
      "_dom_classes": [],
      "_model_module": "@jupyter-widgets/controls",
      "_model_module_version": "1.5.0",
      "_model_name": "HTMLModel",
      "_view_count": null,
      "_view_module": "@jupyter-widgets/controls",
      "_view_module_version": "1.5.0",
      "_view_name": "HTMLView",
      "description": "",
      "description_tooltip": null,
      "layout": "IPY_MODEL_cf48fd6ac23f47d993af7bc75a7c6bd3",
      "placeholder": "​",
      "style": "IPY_MODEL_c2086ebdb3d14b12bfda22125bbf1bc5",
      "value": "Downloading: 100%"
     }
    },
    "7320fec00cbb430ba311dd49ed353db2": {
     "model_module": "@jupyter-widgets/controls",
     "model_module_version": "1.5.0",
     "model_name": "HTMLModel",
     "state": {
      "_dom_classes": [],
      "_model_module": "@jupyter-widgets/controls",
      "_model_module_version": "1.5.0",
      "_model_name": "HTMLModel",
      "_view_count": null,
      "_view_module": "@jupyter-widgets/controls",
      "_view_module_version": "1.5.0",
      "_view_name": "HTMLView",
      "description": "",
      "description_tooltip": null,
      "layout": "IPY_MODEL_2bac51a16579471196f6d4876e02b0e5",
      "placeholder": "​",
      "style": "IPY_MODEL_beac049f457c479385df2f44c48a4cfc",
      "value": " 29.0/29.0 [00:00&lt;00:00, 740B/s]"
     }
    },
    "7a3b7f36789e419ba4be8f1ae4ac4257": {
     "model_module": "@jupyter-widgets/controls",
     "model_module_version": "1.5.0",
     "model_name": "ProgressStyleModel",
     "state": {
      "_model_module": "@jupyter-widgets/controls",
      "_model_module_version": "1.5.0",
      "_model_name": "ProgressStyleModel",
      "_view_count": null,
      "_view_module": "@jupyter-widgets/base",
      "_view_module_version": "1.2.0",
      "_view_name": "StyleView",
      "bar_color": null,
      "description_width": ""
     }
    },
    "7f30c49cfe2d43f58e6896e406e18d08": {
     "model_module": "@jupyter-widgets/controls",
     "model_module_version": "1.5.0",
     "model_name": "HTMLModel",
     "state": {
      "_dom_classes": [],
      "_model_module": "@jupyter-widgets/controls",
      "_model_module_version": "1.5.0",
      "_model_name": "HTMLModel",
      "_view_count": null,
      "_view_module": "@jupyter-widgets/controls",
      "_view_module_version": "1.5.0",
      "_view_name": "HTMLView",
      "description": "",
      "description_tooltip": null,
      "layout": "IPY_MODEL_28462393a8a14567af97c4fc2e43f0a0",
      "placeholder": "​",
      "style": "IPY_MODEL_e2386da1f8bb495db8f90ebeefc5e98b",
      "value": " 972k/972k [00:00&lt;00:00, 4.46MB/s]"
     }
    },
    "80fc6ded52984f0d845ba240596e42e9": {
     "model_module": "@jupyter-widgets/base",
     "model_module_version": "1.2.0",
     "model_name": "LayoutModel",
     "state": {
      "_model_module": "@jupyter-widgets/base",
      "_model_module_version": "1.2.0",
      "_model_name": "LayoutModel",
      "_view_count": null,
      "_view_module": "@jupyter-widgets/base",
      "_view_module_version": "1.2.0",
      "_view_name": "LayoutView",
      "align_content": null,
      "align_items": null,
      "align_self": null,
      "border": null,
      "bottom": null,
      "display": null,
      "flex": null,
      "flex_flow": null,
      "grid_area": null,
      "grid_auto_columns": null,
      "grid_auto_flow": null,
      "grid_auto_rows": null,
      "grid_column": null,
      "grid_gap": null,
      "grid_row": null,
      "grid_template_areas": null,
      "grid_template_columns": null,
      "grid_template_rows": null,
      "height": null,
      "justify_content": null,
      "justify_items": null,
      "left": null,
      "margin": null,
      "max_height": null,
      "max_width": null,
      "min_height": null,
      "min_width": null,
      "object_fit": null,
      "object_position": null,
      "order": null,
      "overflow": null,
      "overflow_x": null,
      "overflow_y": null,
      "padding": null,
      "right": null,
      "top": null,
      "visibility": null,
      "width": null
     }
    },
    "862fb91b46b2484bbed141f65e12becc": {
     "model_module": "@jupyter-widgets/base",
     "model_module_version": "1.2.0",
     "model_name": "LayoutModel",
     "state": {
      "_model_module": "@jupyter-widgets/base",
      "_model_module_version": "1.2.0",
      "_model_name": "LayoutModel",
      "_view_count": null,
      "_view_module": "@jupyter-widgets/base",
      "_view_module_version": "1.2.0",
      "_view_name": "LayoutView",
      "align_content": null,
      "align_items": null,
      "align_self": null,
      "border": null,
      "bottom": null,
      "display": null,
      "flex": null,
      "flex_flow": null,
      "grid_area": null,
      "grid_auto_columns": null,
      "grid_auto_flow": null,
      "grid_auto_rows": null,
      "grid_column": null,
      "grid_gap": null,
      "grid_row": null,
      "grid_template_areas": null,
      "grid_template_columns": null,
      "grid_template_rows": null,
      "height": null,
      "justify_content": null,
      "justify_items": null,
      "left": null,
      "margin": null,
      "max_height": null,
      "max_width": null,
      "min_height": null,
      "min_width": null,
      "object_fit": null,
      "object_position": null,
      "order": null,
      "overflow": null,
      "overflow_x": null,
      "overflow_y": null,
      "padding": null,
      "right": null,
      "top": null,
      "visibility": null,
      "width": null
     }
    },
    "8a50607595254bb5966bd09ff9d733d9": {
     "model_module": "@jupyter-widgets/controls",
     "model_module_version": "1.5.0",
     "model_name": "DescriptionStyleModel",
     "state": {
      "_model_module": "@jupyter-widgets/controls",
      "_model_module_version": "1.5.0",
      "_model_name": "DescriptionStyleModel",
      "_view_count": null,
      "_view_module": "@jupyter-widgets/base",
      "_view_module_version": "1.2.0",
      "_view_name": "StyleView",
      "description_width": ""
     }
    },
    "8a60a0086a47469c98ad1c0171a0f147": {
     "model_module": "@jupyter-widgets/base",
     "model_module_version": "1.2.0",
     "model_name": "LayoutModel",
     "state": {
      "_model_module": "@jupyter-widgets/base",
      "_model_module_version": "1.2.0",
      "_model_name": "LayoutModel",
      "_view_count": null,
      "_view_module": "@jupyter-widgets/base",
      "_view_module_version": "1.2.0",
      "_view_name": "LayoutView",
      "align_content": null,
      "align_items": null,
      "align_self": null,
      "border": null,
      "bottom": null,
      "display": null,
      "flex": null,
      "flex_flow": null,
      "grid_area": null,
      "grid_auto_columns": null,
      "grid_auto_flow": null,
      "grid_auto_rows": null,
      "grid_column": null,
      "grid_gap": null,
      "grid_row": null,
      "grid_template_areas": null,
      "grid_template_columns": null,
      "grid_template_rows": null,
      "height": null,
      "justify_content": null,
      "justify_items": null,
      "left": null,
      "margin": null,
      "max_height": null,
      "max_width": null,
      "min_height": null,
      "min_width": null,
      "object_fit": null,
      "object_position": null,
      "order": null,
      "overflow": null,
      "overflow_x": null,
      "overflow_y": null,
      "padding": null,
      "right": null,
      "top": null,
      "visibility": null,
      "width": null
     }
    },
    "93d2d1944afd4ad6893a50475a731b38": {
     "model_module": "@jupyter-widgets/base",
     "model_module_version": "1.2.0",
     "model_name": "LayoutModel",
     "state": {
      "_model_module": "@jupyter-widgets/base",
      "_model_module_version": "1.2.0",
      "_model_name": "LayoutModel",
      "_view_count": null,
      "_view_module": "@jupyter-widgets/base",
      "_view_module_version": "1.2.0",
      "_view_name": "LayoutView",
      "align_content": null,
      "align_items": null,
      "align_self": null,
      "border": null,
      "bottom": null,
      "display": null,
      "flex": null,
      "flex_flow": null,
      "grid_area": null,
      "grid_auto_columns": null,
      "grid_auto_flow": null,
      "grid_auto_rows": null,
      "grid_column": null,
      "grid_gap": null,
      "grid_row": null,
      "grid_template_areas": null,
      "grid_template_columns": null,
      "grid_template_rows": null,
      "height": null,
      "justify_content": null,
      "justify_items": null,
      "left": null,
      "margin": null,
      "max_height": null,
      "max_width": null,
      "min_height": null,
      "min_width": null,
      "object_fit": null,
      "object_position": null,
      "order": null,
      "overflow": null,
      "overflow_x": null,
      "overflow_y": null,
      "padding": null,
      "right": null,
      "top": null,
      "visibility": null,
      "width": null
     }
    },
    "9c64851af4f04f7c8988a74acf767eaa": {
     "model_module": "@jupyter-widgets/base",
     "model_module_version": "1.2.0",
     "model_name": "LayoutModel",
     "state": {
      "_model_module": "@jupyter-widgets/base",
      "_model_module_version": "1.2.0",
      "_model_name": "LayoutModel",
      "_view_count": null,
      "_view_module": "@jupyter-widgets/base",
      "_view_module_version": "1.2.0",
      "_view_name": "LayoutView",
      "align_content": null,
      "align_items": null,
      "align_self": null,
      "border": null,
      "bottom": null,
      "display": null,
      "flex": null,
      "flex_flow": null,
      "grid_area": null,
      "grid_auto_columns": null,
      "grid_auto_flow": null,
      "grid_auto_rows": null,
      "grid_column": null,
      "grid_gap": null,
      "grid_row": null,
      "grid_template_areas": null,
      "grid_template_columns": null,
      "grid_template_rows": null,
      "height": null,
      "justify_content": null,
      "justify_items": null,
      "left": null,
      "margin": null,
      "max_height": null,
      "max_width": null,
      "min_height": null,
      "min_width": null,
      "object_fit": null,
      "object_position": null,
      "order": null,
      "overflow": null,
      "overflow_x": null,
      "overflow_y": null,
      "padding": null,
      "right": null,
      "top": null,
      "visibility": null,
      "width": null
     }
    },
    "a3192117d2e242328d0ad3bef1840a2b": {
     "model_module": "@jupyter-widgets/controls",
     "model_module_version": "1.5.0",
     "model_name": "HTMLModel",
     "state": {
      "_dom_classes": [],
      "_model_module": "@jupyter-widgets/controls",
      "_model_module_version": "1.5.0",
      "_model_name": "HTMLModel",
      "_view_count": null,
      "_view_module": "@jupyter-widgets/controls",
      "_view_module_version": "1.5.0",
      "_view_name": "HTMLView",
      "description": "",
      "description_tooltip": null,
      "layout": "IPY_MODEL_80fc6ded52984f0d845ba240596e42e9",
      "placeholder": "​",
      "style": "IPY_MODEL_b4b763435d4d411d89d4ddb470046ebe",
      "value": "Downloading: 100%"
     }
    },
    "a3ce319086d946fe8fe3417d06bdad95": {
     "model_module": "@jupyter-widgets/controls",
     "model_module_version": "1.5.0",
     "model_name": "DescriptionStyleModel",
     "state": {
      "_model_module": "@jupyter-widgets/controls",
      "_model_module_version": "1.5.0",
      "_model_name": "DescriptionStyleModel",
      "_view_count": null,
      "_view_module": "@jupyter-widgets/base",
      "_view_module_version": "1.2.0",
      "_view_name": "StyleView",
      "description_width": ""
     }
    },
    "a94cd514b5034be3b9cf043c18463acb": {
     "model_module": "@jupyter-widgets/controls",
     "model_module_version": "1.5.0",
     "model_name": "FloatProgressModel",
     "state": {
      "_dom_classes": [],
      "_model_module": "@jupyter-widgets/controls",
      "_model_module_version": "1.5.0",
      "_model_name": "FloatProgressModel",
      "_view_count": null,
      "_view_module": "@jupyter-widgets/controls",
      "_view_module_version": "1.5.0",
      "_view_name": "ProgressView",
      "bar_style": "success",
      "description": "",
      "description_tooltip": null,
      "layout": "IPY_MODEL_de2dedf6170145e6b88f8b7954c6012d",
      "max": 1961828,
      "min": 0,
      "orientation": "horizontal",
      "style": "IPY_MODEL_372421550e214127a77b7da54afd4f5f",
      "value": 1961828
     }
    },
    "b4b763435d4d411d89d4ddb470046ebe": {
     "model_module": "@jupyter-widgets/controls",
     "model_module_version": "1.5.0",
     "model_name": "DescriptionStyleModel",
     "state": {
      "_model_module": "@jupyter-widgets/controls",
      "_model_module_version": "1.5.0",
      "_model_name": "DescriptionStyleModel",
      "_view_count": null,
      "_view_module": "@jupyter-widgets/base",
      "_view_module_version": "1.2.0",
      "_view_name": "StyleView",
      "description_width": ""
     }
    },
    "b6b76c781ab946f9ac1eb2124ac82f7a": {
     "model_module": "@jupyter-widgets/controls",
     "model_module_version": "1.5.0",
     "model_name": "HTMLModel",
     "state": {
      "_dom_classes": [],
      "_model_module": "@jupyter-widgets/controls",
      "_model_module_version": "1.5.0",
      "_model_name": "HTMLModel",
      "_view_count": null,
      "_view_module": "@jupyter-widgets/controls",
      "_view_module_version": "1.5.0",
      "_view_name": "HTMLView",
      "description": "",
      "description_tooltip": null,
      "layout": "IPY_MODEL_2016826f414e4444a32949bdeb98453d",
      "placeholder": "​",
      "style": "IPY_MODEL_a3ce319086d946fe8fe3417d06bdad95",
      "value": "Downloading: 100%"
     }
    },
    "b85dd9ce9d354c3cbc53420b1b3d4ee5": {
     "model_module": "@jupyter-widgets/controls",
     "model_module_version": "1.5.0",
     "model_name": "FloatProgressModel",
     "state": {
      "_dom_classes": [],
      "_model_module": "@jupyter-widgets/controls",
      "_model_module_version": "1.5.0",
      "_model_name": "FloatProgressModel",
      "_view_count": null,
      "_view_module": "@jupyter-widgets/controls",
      "_view_module_version": "1.5.0",
      "_view_name": "ProgressView",
      "bar_style": "success",
      "description": "",
      "description_tooltip": null,
      "layout": "IPY_MODEL_862fb91b46b2484bbed141f65e12becc",
      "max": 625,
      "min": 0,
      "orientation": "horizontal",
      "style": "IPY_MODEL_44bf61a52a224301abab1eeee7c6c831",
      "value": 625
     }
    },
    "beac049f457c479385df2f44c48a4cfc": {
     "model_module": "@jupyter-widgets/controls",
     "model_module_version": "1.5.0",
     "model_name": "DescriptionStyleModel",
     "state": {
      "_model_module": "@jupyter-widgets/controls",
      "_model_module_version": "1.5.0",
      "_model_name": "DescriptionStyleModel",
      "_view_count": null,
      "_view_module": "@jupyter-widgets/base",
      "_view_module_version": "1.2.0",
      "_view_name": "StyleView",
      "description_width": ""
     }
    },
    "c2086ebdb3d14b12bfda22125bbf1bc5": {
     "model_module": "@jupyter-widgets/controls",
     "model_module_version": "1.5.0",
     "model_name": "DescriptionStyleModel",
     "state": {
      "_model_module": "@jupyter-widgets/controls",
      "_model_module_version": "1.5.0",
      "_model_name": "DescriptionStyleModel",
      "_view_count": null,
      "_view_module": "@jupyter-widgets/base",
      "_view_module_version": "1.2.0",
      "_view_name": "StyleView",
      "description_width": ""
     }
    },
    "c5ed599c35d947c8bdbc150c72c5d210": {
     "model_module": "@jupyter-widgets/controls",
     "model_module_version": "1.5.0",
     "model_name": "HTMLModel",
     "state": {
      "_dom_classes": [],
      "_model_module": "@jupyter-widgets/controls",
      "_model_module_version": "1.5.0",
      "_model_name": "HTMLModel",
      "_view_count": null,
      "_view_module": "@jupyter-widgets/controls",
      "_view_module_version": "1.5.0",
      "_view_name": "HTMLView",
      "description": "",
      "description_tooltip": null,
      "layout": "IPY_MODEL_d863a4c9d0ee409287f5bf96e01b51ff",
      "placeholder": "​",
      "style": "IPY_MODEL_5f7865e661c540a88b10808884b1a010",
      "value": "Downloading: 100%"
     }
    },
    "cc0722c0f5fa4466996b565354591a98": {
     "model_module": "@jupyter-widgets/controls",
     "model_module_version": "1.5.0",
     "model_name": "HTMLModel",
     "state": {
      "_dom_classes": [],
      "_model_module": "@jupyter-widgets/controls",
      "_model_module_version": "1.5.0",
      "_model_name": "HTMLModel",
      "_view_count": null,
      "_view_module": "@jupyter-widgets/controls",
      "_view_module_version": "1.5.0",
      "_view_name": "HTMLView",
      "description": "",
      "description_tooltip": null,
      "layout": "IPY_MODEL_5a76b4e483da449791e1c029c9a18610",
      "placeholder": "​",
      "style": "IPY_MODEL_2ae1e276221e4db2814b6cc341dd0433",
      "value": " 681M/681M [00:11&lt;00:00, 63.1MB/s]"
     }
    },
    "cda3e49704224ddc83941ea0e6a810e0": {
     "model_module": "@jupyter-widgets/base",
     "model_module_version": "1.2.0",
     "model_name": "LayoutModel",
     "state": {
      "_model_module": "@jupyter-widgets/base",
      "_model_module_version": "1.2.0",
      "_model_name": "LayoutModel",
      "_view_count": null,
      "_view_module": "@jupyter-widgets/base",
      "_view_module_version": "1.2.0",
      "_view_name": "LayoutView",
      "align_content": null,
      "align_items": null,
      "align_self": null,
      "border": null,
      "bottom": null,
      "display": null,
      "flex": null,
      "flex_flow": null,
      "grid_area": null,
      "grid_auto_columns": null,
      "grid_auto_flow": null,
      "grid_auto_rows": null,
      "grid_column": null,
      "grid_gap": null,
      "grid_row": null,
      "grid_template_areas": null,
      "grid_template_columns": null,
      "grid_template_rows": null,
      "height": null,
      "justify_content": null,
      "justify_items": null,
      "left": null,
      "margin": null,
      "max_height": null,
      "max_width": null,
      "min_height": null,
      "min_width": null,
      "object_fit": null,
      "object_position": null,
      "order": null,
      "overflow": null,
      "overflow_x": null,
      "overflow_y": null,
      "padding": null,
      "right": null,
      "top": null,
      "visibility": null,
      "width": null
     }
    },
    "cf48fd6ac23f47d993af7bc75a7c6bd3": {
     "model_module": "@jupyter-widgets/base",
     "model_module_version": "1.2.0",
     "model_name": "LayoutModel",
     "state": {
      "_model_module": "@jupyter-widgets/base",
      "_model_module_version": "1.2.0",
      "_model_name": "LayoutModel",
      "_view_count": null,
      "_view_module": "@jupyter-widgets/base",
      "_view_module_version": "1.2.0",
      "_view_name": "LayoutView",
      "align_content": null,
      "align_items": null,
      "align_self": null,
      "border": null,
      "bottom": null,
      "display": null,
      "flex": null,
      "flex_flow": null,
      "grid_area": null,
      "grid_auto_columns": null,
      "grid_auto_flow": null,
      "grid_auto_rows": null,
      "grid_column": null,
      "grid_gap": null,
      "grid_row": null,
      "grid_template_areas": null,
      "grid_template_columns": null,
      "grid_template_rows": null,
      "height": null,
      "justify_content": null,
      "justify_items": null,
      "left": null,
      "margin": null,
      "max_height": null,
      "max_width": null,
      "min_height": null,
      "min_width": null,
      "object_fit": null,
      "object_position": null,
      "order": null,
      "overflow": null,
      "overflow_x": null,
      "overflow_y": null,
      "padding": null,
      "right": null,
      "top": null,
      "visibility": null,
      "width": null
     }
    },
    "d2c4d148b0df4be2baa56cf3f0a8799d": {
     "model_module": "@jupyter-widgets/controls",
     "model_module_version": "1.5.0",
     "model_name": "HBoxModel",
     "state": {
      "_dom_classes": [],
      "_model_module": "@jupyter-widgets/controls",
      "_model_module_version": "1.5.0",
      "_model_name": "HBoxModel",
      "_view_count": null,
      "_view_module": "@jupyter-widgets/controls",
      "_view_module_version": "1.5.0",
      "_view_name": "HBoxView",
      "box_style": "",
      "children": [
       "IPY_MODEL_b6b76c781ab946f9ac1eb2124ac82f7a",
       "IPY_MODEL_16d0c7091a4d427b819810afc390c8a2",
       "IPY_MODEL_cc0722c0f5fa4466996b565354591a98"
      ],
      "layout": "IPY_MODEL_23c58745bfce4b33a38824b9c311acea"
     }
    },
    "d863a4c9d0ee409287f5bf96e01b51ff": {
     "model_module": "@jupyter-widgets/base",
     "model_module_version": "1.2.0",
     "model_name": "LayoutModel",
     "state": {
      "_model_module": "@jupyter-widgets/base",
      "_model_module_version": "1.2.0",
      "_model_name": "LayoutModel",
      "_view_count": null,
      "_view_module": "@jupyter-widgets/base",
      "_view_module_version": "1.2.0",
      "_view_name": "LayoutView",
      "align_content": null,
      "align_items": null,
      "align_self": null,
      "border": null,
      "bottom": null,
      "display": null,
      "flex": null,
      "flex_flow": null,
      "grid_area": null,
      "grid_auto_columns": null,
      "grid_auto_flow": null,
      "grid_auto_rows": null,
      "grid_column": null,
      "grid_gap": null,
      "grid_row": null,
      "grid_template_areas": null,
      "grid_template_columns": null,
      "grid_template_rows": null,
      "height": null,
      "justify_content": null,
      "justify_items": null,
      "left": null,
      "margin": null,
      "max_height": null,
      "max_width": null,
      "min_height": null,
      "min_width": null,
      "object_fit": null,
      "object_position": null,
      "order": null,
      "overflow": null,
      "overflow_x": null,
      "overflow_y": null,
      "padding": null,
      "right": null,
      "top": null,
      "visibility": null,
      "width": null
     }
    },
    "db663e2c387e4c0a8897eac157c13b2a": {
     "model_module": "@jupyter-widgets/controls",
     "model_module_version": "1.5.0",
     "model_name": "ProgressStyleModel",
     "state": {
      "_model_module": "@jupyter-widgets/controls",
      "_model_module_version": "1.5.0",
      "_model_name": "ProgressStyleModel",
      "_view_count": null,
      "_view_module": "@jupyter-widgets/base",
      "_view_module_version": "1.2.0",
      "_view_name": "StyleView",
      "bar_color": null,
      "description_width": ""
     }
    },
    "dc56208d27a34999984e2af40f12269b": {
     "model_module": "@jupyter-widgets/controls",
     "model_module_version": "1.5.0",
     "model_name": "HBoxModel",
     "state": {
      "_dom_classes": [],
      "_model_module": "@jupyter-widgets/controls",
      "_model_module_version": "1.5.0",
      "_model_name": "HBoxModel",
      "_view_count": null,
      "_view_module": "@jupyter-widgets/controls",
      "_view_module_version": "1.5.0",
      "_view_name": "HBoxView",
      "box_style": "",
      "children": [
       "IPY_MODEL_6c88089be4a343babab248b9f74414c8",
       "IPY_MODEL_6169c3397432438fb838d92bebc82ffe",
       "IPY_MODEL_7f30c49cfe2d43f58e6896e406e18d08"
      ],
      "layout": "IPY_MODEL_cda3e49704224ddc83941ea0e6a810e0"
     }
    },
    "de2dedf6170145e6b88f8b7954c6012d": {
     "model_module": "@jupyter-widgets/base",
     "model_module_version": "1.2.0",
     "model_name": "LayoutModel",
     "state": {
      "_model_module": "@jupyter-widgets/base",
      "_model_module_version": "1.2.0",
      "_model_name": "LayoutModel",
      "_view_count": null,
      "_view_module": "@jupyter-widgets/base",
      "_view_module_version": "1.2.0",
      "_view_name": "LayoutView",
      "align_content": null,
      "align_items": null,
      "align_self": null,
      "border": null,
      "bottom": null,
      "display": null,
      "flex": null,
      "flex_flow": null,
      "grid_area": null,
      "grid_auto_columns": null,
      "grid_auto_flow": null,
      "grid_auto_rows": null,
      "grid_column": null,
      "grid_gap": null,
      "grid_row": null,
      "grid_template_areas": null,
      "grid_template_columns": null,
      "grid_template_rows": null,
      "height": null,
      "justify_content": null,
      "justify_items": null,
      "left": null,
      "margin": null,
      "max_height": null,
      "max_width": null,
      "min_height": null,
      "min_width": null,
      "object_fit": null,
      "object_position": null,
      "order": null,
      "overflow": null,
      "overflow_x": null,
      "overflow_y": null,
      "padding": null,
      "right": null,
      "top": null,
      "visibility": null,
      "width": null
     }
    },
    "e2386da1f8bb495db8f90ebeefc5e98b": {
     "model_module": "@jupyter-widgets/controls",
     "model_module_version": "1.5.0",
     "model_name": "DescriptionStyleModel",
     "state": {
      "_model_module": "@jupyter-widgets/controls",
      "_model_module_version": "1.5.0",
      "_model_name": "DescriptionStyleModel",
      "_view_count": null,
      "_view_module": "@jupyter-widgets/base",
      "_view_module_version": "1.2.0",
      "_view_name": "StyleView",
      "description_width": ""
     }
    },
    "e94edd0ac80a411fbf7bcaf99dcd6884": {
     "model_module": "@jupyter-widgets/controls",
     "model_module_version": "1.5.0",
     "model_name": "ProgressStyleModel",
     "state": {
      "_model_module": "@jupyter-widgets/controls",
      "_model_module_version": "1.5.0",
      "_model_name": "ProgressStyleModel",
      "_view_count": null,
      "_view_module": "@jupyter-widgets/base",
      "_view_module_version": "1.2.0",
      "_view_name": "StyleView",
      "bar_color": null,
      "description_width": ""
     }
    },
    "ee97f7ca04124c5085c0664072daf5d6": {
     "model_module": "@jupyter-widgets/controls",
     "model_module_version": "1.5.0",
     "model_name": "HTMLModel",
     "state": {
      "_dom_classes": [],
      "_model_module": "@jupyter-widgets/controls",
      "_model_module_version": "1.5.0",
      "_model_name": "HTMLModel",
      "_view_count": null,
      "_view_module": "@jupyter-widgets/controls",
      "_view_module_version": "1.5.0",
      "_view_name": "HTMLView",
      "description": "",
      "description_tooltip": null,
      "layout": "IPY_MODEL_8a60a0086a47469c98ad1c0171a0f147",
      "placeholder": "​",
      "style": "IPY_MODEL_174fa64142ed48cdbfc8379086241bcf",
      "value": " 1.87M/1.87M [00:00&lt;00:00, 6.85MB/s]"
     }
    },
    "f58106fb6fa14e2cbcba51ff64fd42af": {
     "model_module": "@jupyter-widgets/base",
     "model_module_version": "1.2.0",
     "model_name": "LayoutModel",
     "state": {
      "_model_module": "@jupyter-widgets/base",
      "_model_module_version": "1.2.0",
      "_model_name": "LayoutModel",
      "_view_count": null,
      "_view_module": "@jupyter-widgets/base",
      "_view_module_version": "1.2.0",
      "_view_name": "LayoutView",
      "align_content": null,
      "align_items": null,
      "align_self": null,
      "border": null,
      "bottom": null,
      "display": null,
      "flex": null,
      "flex_flow": null,
      "grid_area": null,
      "grid_auto_columns": null,
      "grid_auto_flow": null,
      "grid_auto_rows": null,
      "grid_column": null,
      "grid_gap": null,
      "grid_row": null,
      "grid_template_areas": null,
      "grid_template_columns": null,
      "grid_template_rows": null,
      "height": null,
      "justify_content": null,
      "justify_items": null,
      "left": null,
      "margin": null,
      "max_height": null,
      "max_width": null,
      "min_height": null,
      "min_width": null,
      "object_fit": null,
      "object_position": null,
      "order": null,
      "overflow": null,
      "overflow_x": null,
      "overflow_y": null,
      "padding": null,
      "right": null,
      "top": null,
      "visibility": null,
      "width": null
     }
    },
    "f68d9266c94641a3a649599930986c04": {
     "model_module": "@jupyter-widgets/controls",
     "model_module_version": "1.5.0",
     "model_name": "HTMLModel",
     "state": {
      "_dom_classes": [],
      "_model_module": "@jupyter-widgets/controls",
      "_model_module_version": "1.5.0",
      "_model_name": "HTMLModel",
      "_view_count": null,
      "_view_module": "@jupyter-widgets/controls",
      "_view_module_version": "1.5.0",
      "_view_name": "HTMLView",
      "description": "",
      "description_tooltip": null,
      "layout": "IPY_MODEL_93d2d1944afd4ad6893a50475a731b38",
      "placeholder": "​",
      "style": "IPY_MODEL_8a50607595254bb5966bd09ff9d733d9",
      "value": " 625/625 [00:00&lt;00:00, 16.8kB/s]"
     }
    },
    "f6c3f17a73bb46b1ae9f74a457385521": {
     "model_module": "@jupyter-widgets/controls",
     "model_module_version": "1.5.0",
     "model_name": "FloatProgressModel",
     "state": {
      "_dom_classes": [],
      "_model_module": "@jupyter-widgets/controls",
      "_model_module_version": "1.5.0",
      "_model_name": "FloatProgressModel",
      "_view_count": null,
      "_view_module": "@jupyter-widgets/controls",
      "_view_module_version": "1.5.0",
      "_view_name": "ProgressView",
      "bar_style": "success",
      "description": "",
      "description_tooltip": null,
      "layout": "IPY_MODEL_63312eeed48f43c48bb885cc65deb0e2",
      "max": 29,
      "min": 0,
      "orientation": "horizontal",
      "style": "IPY_MODEL_7a3b7f36789e419ba4be8f1ae4ac4257",
      "value": 29
     }
    },
    "fa280687d92b407a9c79f6816d3dc748": {
     "model_module": "@jupyter-widgets/base",
     "model_module_version": "1.2.0",
     "model_name": "LayoutModel",
     "state": {
      "_model_module": "@jupyter-widgets/base",
      "_model_module_version": "1.2.0",
      "_model_name": "LayoutModel",
      "_view_count": null,
      "_view_module": "@jupyter-widgets/base",
      "_view_module_version": "1.2.0",
      "_view_name": "LayoutView",
      "align_content": null,
      "align_items": null,
      "align_self": null,
      "border": null,
      "bottom": null,
      "display": null,
      "flex": null,
      "flex_flow": null,
      "grid_area": null,
      "grid_auto_columns": null,
      "grid_auto_flow": null,
      "grid_auto_rows": null,
      "grid_column": null,
      "grid_gap": null,
      "grid_row": null,
      "grid_template_areas": null,
      "grid_template_columns": null,
      "grid_template_rows": null,
      "height": null,
      "justify_content": null,
      "justify_items": null,
      "left": null,
      "margin": null,
      "max_height": null,
      "max_width": null,
      "min_height": null,
      "min_width": null,
      "object_fit": null,
      "object_position": null,
      "order": null,
      "overflow": null,
      "overflow_x": null,
      "overflow_y": null,
      "padding": null,
      "right": null,
      "top": null,
      "visibility": null,
      "width": null
     }
    }
   }
  }
 },
 "nbformat": 4,
 "nbformat_minor": 4
}
